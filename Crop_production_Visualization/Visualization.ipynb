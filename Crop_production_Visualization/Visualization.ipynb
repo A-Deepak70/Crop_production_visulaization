{
 "cells": [
  {
   "cell_type": "code",
   "execution_count": 2,
   "metadata": {},
   "outputs": [],
   "source": [
    "import seaborn as sns\n",
    "import matplotlib.pyplot as plt\n",
    "import pandas as pd\n",
    "import numpy as np\n",
    "%matplotlib inline"
   ]
  },
  {
   "cell_type": "code",
   "execution_count": 3,
   "metadata": {},
   "outputs": [],
   "source": [
    "df=pd.read_csv(\"crop_production.csv\")"
   ]
  },
  {
   "cell_type": "code",
   "execution_count": 4,
   "metadata": {},
   "outputs": [
    {
     "data": {
      "text/html": [
       "<div>\n",
       "<style scoped>\n",
       "    .dataframe tbody tr th:only-of-type {\n",
       "        vertical-align: middle;\n",
       "    }\n",
       "\n",
       "    .dataframe tbody tr th {\n",
       "        vertical-align: top;\n",
       "    }\n",
       "\n",
       "    .dataframe thead th {\n",
       "        text-align: right;\n",
       "    }\n",
       "</style>\n",
       "<table border=\"1\" class=\"dataframe\">\n",
       "  <thead>\n",
       "    <tr style=\"text-align: right;\">\n",
       "      <th></th>\n",
       "      <th>State_Name</th>\n",
       "      <th>District_Name</th>\n",
       "      <th>Crop_Year</th>\n",
       "      <th>Season</th>\n",
       "      <th>Crop</th>\n",
       "      <th>Area</th>\n",
       "      <th>Production</th>\n",
       "    </tr>\n",
       "  </thead>\n",
       "  <tbody>\n",
       "    <tr>\n",
       "      <th>0</th>\n",
       "      <td>Andaman and Nicobar Islands</td>\n",
       "      <td>NICOBARS</td>\n",
       "      <td>2000</td>\n",
       "      <td>Kharif</td>\n",
       "      <td>Arecanut</td>\n",
       "      <td>1254.0</td>\n",
       "      <td>2000.0</td>\n",
       "    </tr>\n",
       "    <tr>\n",
       "      <th>1</th>\n",
       "      <td>Andaman and Nicobar Islands</td>\n",
       "      <td>NICOBARS</td>\n",
       "      <td>2000</td>\n",
       "      <td>Kharif</td>\n",
       "      <td>Other Kharif pulses</td>\n",
       "      <td>2.0</td>\n",
       "      <td>1.0</td>\n",
       "    </tr>\n",
       "    <tr>\n",
       "      <th>2</th>\n",
       "      <td>Andaman and Nicobar Islands</td>\n",
       "      <td>NICOBARS</td>\n",
       "      <td>2000</td>\n",
       "      <td>Kharif</td>\n",
       "      <td>Rice</td>\n",
       "      <td>102.0</td>\n",
       "      <td>321.0</td>\n",
       "    </tr>\n",
       "    <tr>\n",
       "      <th>3</th>\n",
       "      <td>Andaman and Nicobar Islands</td>\n",
       "      <td>NICOBARS</td>\n",
       "      <td>2000</td>\n",
       "      <td>Whole Year</td>\n",
       "      <td>Banana</td>\n",
       "      <td>176.0</td>\n",
       "      <td>641.0</td>\n",
       "    </tr>\n",
       "    <tr>\n",
       "      <th>4</th>\n",
       "      <td>Andaman and Nicobar Islands</td>\n",
       "      <td>NICOBARS</td>\n",
       "      <td>2000</td>\n",
       "      <td>Whole Year</td>\n",
       "      <td>Cashewnut</td>\n",
       "      <td>720.0</td>\n",
       "      <td>165.0</td>\n",
       "    </tr>\n",
       "  </tbody>\n",
       "</table>\n",
       "</div>"
      ],
      "text/plain": [
       "                    State_Name District_Name  Crop_Year       Season  \\\n",
       "0  Andaman and Nicobar Islands      NICOBARS       2000  Kharif        \n",
       "1  Andaman and Nicobar Islands      NICOBARS       2000  Kharif        \n",
       "2  Andaman and Nicobar Islands      NICOBARS       2000  Kharif        \n",
       "3  Andaman and Nicobar Islands      NICOBARS       2000  Whole Year    \n",
       "4  Andaman and Nicobar Islands      NICOBARS       2000  Whole Year    \n",
       "\n",
       "                  Crop    Area  Production  \n",
       "0             Arecanut  1254.0      2000.0  \n",
       "1  Other Kharif pulses     2.0         1.0  \n",
       "2                 Rice   102.0       321.0  \n",
       "3               Banana   176.0       641.0  \n",
       "4            Cashewnut   720.0       165.0  "
      ]
     },
     "execution_count": 4,
     "metadata": {},
     "output_type": "execute_result"
    }
   ],
   "source": [
    "df.head()"
   ]
  },
  {
   "cell_type": "code",
   "execution_count": 5,
   "metadata": {},
   "outputs": [
    {
     "data": {
      "text/plain": [
       "(246091, 7)"
      ]
     },
     "execution_count": 5,
     "metadata": {},
     "output_type": "execute_result"
    }
   ],
   "source": [
    "df.shape"
   ]
  },
  {
   "cell_type": "markdown",
   "metadata": {},
   "source": [
    "# Checking for Missing Data"
   ]
  },
  {
   "cell_type": "code",
   "execution_count": 6,
   "metadata": {},
   "outputs": [
    {
     "data": {
      "text/plain": [
       "State_Name          0\n",
       "District_Name       0\n",
       "Crop_Year           0\n",
       "Season              0\n",
       "Crop                0\n",
       "Area                0\n",
       "Production       3730\n",
       "dtype: int64"
      ]
     },
     "execution_count": 6,
     "metadata": {},
     "output_type": "execute_result"
    }
   ],
   "source": [
    "df.isnull().sum()"
   ]
  },
  {
   "cell_type": "code",
   "execution_count": 7,
   "metadata": {},
   "outputs": [
    {
     "data": {
      "text/plain": [
       "0.015156994770227274"
      ]
     },
     "execution_count": 7,
     "metadata": {},
     "output_type": "execute_result"
    }
   ],
   "source": [
    "3730/246091"
   ]
  },
  {
   "cell_type": "code",
   "execution_count": 8,
   "metadata": {},
   "outputs": [],
   "source": [
    "df.dropna(subset=[\"Production\"],axis=0,inplace=True)"
   ]
  },
  {
   "cell_type": "code",
   "execution_count": 9,
   "metadata": {},
   "outputs": [
    {
     "data": {
      "text/plain": [
       "State_Name       0\n",
       "District_Name    0\n",
       "Crop_Year        0\n",
       "Season           0\n",
       "Crop             0\n",
       "Area             0\n",
       "Production       0\n",
       "dtype: int64"
      ]
     },
     "execution_count": 9,
     "metadata": {},
     "output_type": "execute_result"
    }
   ],
   "source": [
    "df.isnull().sum()"
   ]
  },
  {
   "cell_type": "markdown",
   "metadata": {},
   "source": [
    "# Checking for Correlation between variables"
   ]
  },
  {
   "cell_type": "code",
   "execution_count": 10,
   "metadata": {},
   "outputs": [
    {
     "data": {
      "image/png": "[encoded data removed]",
      "text/plain": [
       "<Figure size 432x288 with 2 Axes>"
      ]
     },
     "metadata": {
      "needs_background": "light"
     },
     "output_type": "display_data"
    }
   ],
   "source": [
    "plt.tick_params(labelsize=10)\n",
    "sns.heatmap(df.corr(),annot=True);\n",
    "\n",
    "#"
   ]
  },
  {
   "cell_type": "code",
   "execution_count": 11,
   "metadata": {},
   "outputs": [
    {
     "data": {
      "text/plain": [
       "array(['Andaman and Nicobar Islands', 'Andhra Pradesh',\n",
       "       'Arunachal Pradesh', 'Assam', 'Bihar', 'Chandigarh',\n",
       "       'Chhattisgarh', 'Dadra and Nagar Haveli', 'Goa', 'Gujarat',\n",
       "       'Haryana', 'Himachal Pradesh', 'Jammu and Kashmir ', 'Jharkhand',\n",
       "       'Karnataka', 'Kerala', 'Madhya Pradesh', 'Maharashtra', 'Manipur',\n",
       "       'Meghalaya', 'Mizoram', 'Nagaland', 'Odisha', 'Puducherry',\n",
       "       'Punjab', 'Rajasthan', 'Sikkim', 'Tamil Nadu', 'Telangana ',\n",
       "       'Tripura', 'Uttar Pradesh', 'Uttarakhand', 'West Bengal'],\n",
       "      dtype=object)"
      ]
     },
     "execution_count": 11,
     "metadata": {},
     "output_type": "execute_result"
    }
   ],
   "source": [
    "df.State_Name.unique()"
   ]
  },
  {
   "cell_type": "code",
   "execution_count": 12,
   "metadata": {},
   "outputs": [
    {
     "data": {
      "text/plain": [
       "33"
      ]
     },
     "execution_count": 12,
     "metadata": {},
     "output_type": "execute_result"
    }
   ],
   "source": [
    "df.State_Name.nunique()"
   ]
  },
  {
   "cell_type": "code",
   "execution_count": 13,
   "metadata": {},
   "outputs": [
    {
     "data": {
      "text/plain": [
       "Uttar Pradesh                  33189\n",
       "Madhya Pradesh                 22604\n",
       "Karnataka                      21079\n",
       "Bihar                          18874\n",
       "Assam                          14622\n",
       "Odisha                         13524\n",
       "Tamil Nadu                     13266\n",
       "Maharashtra                    12496\n",
       "Rajasthan                      12066\n",
       "Chhattisgarh                   10368\n",
       "West Bengal                     9597\n",
       "Andhra Pradesh                  9561\n",
       "Gujarat                         8365\n",
       "Telangana                       5591\n",
       "Uttarakhand                     4825\n",
       "Haryana                         4540\n",
       "Kerala                          4003\n",
       "Nagaland                        3904\n",
       "Punjab                          3143\n",
       "Meghalaya                       2867\n",
       "Arunachal Pradesh               2545\n",
       "Himachal Pradesh                2456\n",
       "Jammu and Kashmir               1632\n",
       "Tripura                         1412\n",
       "Jharkhand                       1266\n",
       "Manipur                         1266\n",
       "Mizoram                          954\n",
       "Puducherry                       872\n",
       "Sikkim                           714\n",
       "Dadra and Nagar Haveli           263\n",
       "Goa                              207\n",
       "Andaman and Nicobar Islands      201\n",
       "Chandigarh                        89\n",
       "Name: State_Name, dtype: int64"
      ]
     },
     "execution_count": 13,
     "metadata": {},
     "output_type": "execute_result"
    }
   ],
   "source": [
    "df.State_Name.value_counts()"
   ]
  },
  {
   "cell_type": "code",
   "execution_count": 14,
   "metadata": {},
   "outputs": [
    {
     "data": {
      "text/plain": [
       "646"
      ]
     },
     "execution_count": 14,
     "metadata": {},
     "output_type": "execute_result"
    }
   ],
   "source": [
    "df.District_Name.nunique()"
   ]
  },
  {
   "cell_type": "code",
   "execution_count": 15,
   "metadata": {},
   "outputs": [
    {
     "data": {
      "text/plain": [
       "array(['NICOBARS', 'NORTH AND MIDDLE ANDAMAN', 'SOUTH ANDAMANS',\n",
       "       'ANANTAPUR', 'CHITTOOR', 'EAST GODAVARI', 'GUNTUR', 'KADAPA',\n",
       "       'KRISHNA', 'KURNOOL', 'PRAKASAM', 'SPSR NELLORE', 'SRIKAKULAM',\n",
       "       'VISAKHAPATANAM', 'VIZIANAGARAM', 'WEST GODAVARI', 'ANJAW',\n",
       "       'CHANGLANG', 'DIBANG VALLEY', 'EAST KAMENG', 'EAST SIANG',\n",
       "       'KURUNG KUMEY', 'LOHIT', 'LONGDING', 'LOWER DIBANG VALLEY',\n",
       "       'LOWER SUBANSIRI', 'NAMSAI', 'PAPUM PARE', 'TAWANG', 'TIRAP',\n",
       "       'UPPER SIANG', 'UPPER SUBANSIRI', 'WEST KAMENG', 'WEST SIANG',\n",
       "       'BAKSA', 'BARPETA', 'BONGAIGAON', 'CACHAR', 'CHIRANG', 'DARRANG',\n",
       "       'DHEMAJI', 'DHUBRI', 'DIBRUGARH', 'DIMA HASAO', 'GOALPARA',\n",
       "       'GOLAGHAT', 'HAILAKANDI', 'JORHAT', 'KAMRUP', 'KAMRUP METRO',\n",
       "       'KARBI ANGLONG', 'KARIMGANJ', 'KOKRAJHAR', 'LAKHIMPUR', 'MARIGAON',\n",
       "       'NAGAON', 'NALBARI', 'SIVASAGAR', 'SONITPUR', 'TINSUKIA',\n",
       "       'UDALGURI', 'ARARIA', 'ARWAL', 'AURANGABAD', 'BANKA', 'BEGUSARAI',\n",
       "       'BHAGALPUR', 'BHOJPUR', 'BUXAR', 'DARBHANGA', 'GAYA', 'GOPALGANJ',\n",
       "       'JAMUI', 'JEHANABAD', 'KAIMUR (BHABUA)', 'KATIHAR', 'KHAGARIA',\n",
       "       'KISHANGANJ', 'LAKHISARAI', 'MADHEPURA', 'MADHUBANI', 'MUNGER',\n",
       "       'MUZAFFARPUR', 'NALANDA', 'NAWADA', 'PASHCHIM CHAMPARAN', 'PATNA',\n",
       "       'PURBI CHAMPARAN', 'PURNIA', 'ROHTAS', 'SAHARSA', 'SAMASTIPUR',\n",
       "       'SARAN', 'SHEIKHPURA', 'SHEOHAR', 'SITAMARHI', 'SIWAN', 'SUPAUL',\n",
       "       'VAISHALI', 'CHANDIGARH', 'BALOD', 'BALODA BAZAR', 'BALRAMPUR',\n",
       "       'BASTAR', 'BEMETARA', 'BIJAPUR', 'BILASPUR', 'DANTEWADA',\n",
       "       'DHAMTARI', 'DURG', 'GARIYABAND', 'JANJGIR-CHAMPA', 'JASHPUR',\n",
       "       'KABIRDHAM', 'KANKER', 'KONDAGAON', 'KORBA', 'KOREA', 'MAHASAMUND',\n",
       "       'MUNGELI', 'NARAYANPUR', 'RAIGARH', 'RAIPUR', 'RAJNANDGAON',\n",
       "       'SUKMA', 'SURAJPUR', 'SURGUJA', 'DADRA AND NAGAR HAVELI',\n",
       "       'NORTH GOA', 'SOUTH GOA', 'AHMADABAD', 'AMRELI', 'ANAND',\n",
       "       'BANAS KANTHA', 'BHARUCH', 'BHAVNAGAR', 'DANG', 'DOHAD',\n",
       "       'GANDHINAGAR', 'JAMNAGAR', 'JUNAGADH', 'KACHCHH', 'KHEDA',\n",
       "       'MAHESANA', 'NARMADA', 'NAVSARI', 'PANCH MAHALS', 'PATAN',\n",
       "       'PORBANDAR', 'RAJKOT', 'SABAR KANTHA', 'SURAT', 'SURENDRANAGAR',\n",
       "       'TAPI', 'VADODARA', 'VALSAD', 'AMBALA', 'BHIWANI', 'FARIDABAD',\n",
       "       'FATEHABAD', 'GURGAON', 'HISAR', 'JHAJJAR', 'JIND', 'KAITHAL',\n",
       "       'KARNAL', 'KURUKSHETRA', 'MAHENDRAGARH', 'MEWAT', 'PALWAL',\n",
       "       'PANCHKULA', 'PANIPAT', 'REWARI', 'ROHTAK', 'SIRSA', 'SONIPAT',\n",
       "       'YAMUNANAGAR', 'CHAMBA', 'HAMIRPUR', 'KANGRA', 'KINNAUR', 'KULLU',\n",
       "       'LAHUL AND SPITI', 'MANDI', 'SHIMLA', 'SIRMAUR', 'SOLAN', 'UNA',\n",
       "       'ANANTNAG', 'BADGAM', 'BANDIPORA', 'BARAMULLA', 'DODA',\n",
       "       'GANDERBAL', 'JAMMU', 'KARGIL', 'KATHUA', 'KISHTWAR', 'KULGAM',\n",
       "       'KUPWARA', 'LEH LADAKH', 'POONCH', 'PULWAMA', 'RAJAURI', 'RAMBAN',\n",
       "       'REASI', 'SAMBA', 'SHOPIAN', 'SRINAGAR', 'UDHAMPUR', 'BOKARO',\n",
       "       'CHATRA', 'DEOGHAR', 'DHANBAD', 'DUMKA', 'EAST SINGHBUM', 'GARHWA',\n",
       "       'GIRIDIH', 'GODDA', 'GUMLA', 'HAZARIBAGH', 'JAMTARA', 'KHUNTI',\n",
       "       'KODERMA', 'LATEHAR', 'LOHARDAGA', 'PAKUR', 'PALAMU', 'RAMGARH',\n",
       "       'RANCHI', 'SAHEBGANJ', 'SARAIKELA KHARSAWAN', 'SIMDEGA',\n",
       "       'WEST SINGHBHUM', 'BAGALKOT', 'BANGALORE RURAL', 'BELGAUM',\n",
       "       'BELLARY', 'BENGALURU URBAN', 'BIDAR', 'CHAMARAJANAGAR',\n",
       "       'CHIKBALLAPUR', 'CHIKMAGALUR', 'CHITRADURGA', 'DAKSHIN KANNAD',\n",
       "       'DAVANGERE', 'DHARWAD', 'GADAG', 'GULBARGA', 'HASSAN', 'HAVERI',\n",
       "       'KODAGU', 'KOLAR', 'KOPPAL', 'MANDYA', 'MYSORE', 'RAICHUR',\n",
       "       'RAMANAGARA', 'SHIMOGA', 'TUMKUR', 'UDUPI', 'UTTAR KANNAD',\n",
       "       'YADGIR', 'ALAPPUZHA', 'ERNAKULAM', 'IDUKKI', 'KANNUR',\n",
       "       'KASARAGOD', 'KOLLAM', 'KOTTAYAM', 'KOZHIKODE', 'MALAPPURAM',\n",
       "       'PALAKKAD', 'PATHANAMTHITTA', 'THIRUVANANTHAPURAM', 'THRISSUR',\n",
       "       'WAYANAD', 'AGAR MALWA', 'ALIRAJPUR', 'ANUPPUR', 'ASHOKNAGAR',\n",
       "       'BALAGHAT', 'BARWANI', 'BETUL', 'BHIND', 'BHOPAL', 'BURHANPUR',\n",
       "       'CHHATARPUR', 'CHHINDWARA', 'DAMOH', 'DATIA', 'DEWAS', 'DHAR',\n",
       "       'DINDORI', 'GUNA', 'GWALIOR', 'HARDA', 'HOSHANGABAD', 'INDORE',\n",
       "       'JABALPUR', 'JHABUA', 'KATNI', 'KHANDWA', 'KHARGONE', 'MANDLA',\n",
       "       'MANDSAUR', 'MORENA', 'NARSINGHPUR', 'NEEMUCH', 'PANNA', 'RAISEN',\n",
       "       'RAJGARH', 'RATLAM', 'REWA', 'SAGAR', 'SATNA', 'SEHORE', 'SEONI',\n",
       "       'SHAHDOL', 'SHAJAPUR', 'SHEOPUR', 'SHIVPURI', 'SIDHI', 'SINGRAULI',\n",
       "       'TIKAMGARH', 'UJJAIN', 'UMARIA', 'VIDISHA', 'AHMEDNAGAR', 'AKOLA',\n",
       "       'AMRAVATI', 'BEED', 'BHANDARA', 'BULDHANA', 'CHANDRAPUR', 'DHULE',\n",
       "       'GADCHIROLI', 'GONDIA', 'HINGOLI', 'JALGAON', 'JALNA', 'KOLHAPUR',\n",
       "       'LATUR', 'MUMBAI', 'NAGPUR', 'NANDED', 'NANDURBAR', 'NASHIK',\n",
       "       'OSMANABAD', 'PALGHAR', 'PARBHANI', 'PUNE', 'RAIGAD', 'RATNAGIRI',\n",
       "       'SANGLI', 'SATARA', 'SINDHUDURG', 'SOLAPUR', 'THANE', 'WARDHA',\n",
       "       'WASHIM', 'YAVATMAL', 'BISHNUPUR', 'CHANDEL', 'CHURACHANDPUR',\n",
       "       'IMPHAL EAST', 'IMPHAL WEST', 'SENAPATI', 'TAMENGLONG', 'THOUBAL',\n",
       "       'UKHRUL', 'EAST GARO HILLS', 'EAST JAINTIA HILLS',\n",
       "       'EAST KHASI HILLS', 'NORTH GARO HILLS', 'RI BHOI',\n",
       "       'SOUTH GARO HILLS', 'SOUTH WEST GARO HILLS',\n",
       "       'SOUTH WEST KHASI HILLS', 'WEST GARO HILLS', 'WEST JAINTIA HILLS',\n",
       "       'WEST KHASI HILLS', 'AIZAWL', 'CHAMPHAI', 'KOLASIB', 'LAWNGTLAI',\n",
       "       'LUNGLEI', 'MAMIT', 'SAIHA', 'SERCHHIP', 'DIMAPUR', 'KIPHIRE',\n",
       "       'KOHIMA', 'LONGLENG', 'MOKOKCHUNG', 'MON', 'PEREN', 'PHEK',\n",
       "       'TUENSANG', 'WOKHA', 'ZUNHEBOTO', 'ANUGUL', 'BALANGIR',\n",
       "       'BALESHWAR', 'BARGARH', 'BHADRAK', 'BOUDH', 'CUTTACK', 'DEOGARH',\n",
       "       'DHENKANAL', 'GAJAPATI', 'GANJAM', 'JAGATSINGHAPUR', 'JAJAPUR',\n",
       "       'JHARSUGUDA', 'KALAHANDI', 'KANDHAMAL', 'KENDRAPARA', 'KENDUJHAR',\n",
       "       'KHORDHA', 'KORAPUT', 'MALKANGIRI', 'MAYURBHANJ', 'NABARANGPUR',\n",
       "       'NAYAGARH', 'NUAPADA', 'PURI', 'RAYAGADA', 'SAMBALPUR', 'SONEPUR',\n",
       "       'SUNDARGARH', 'KARAIKAL', 'MAHE', 'PONDICHERRY', 'YANAM',\n",
       "       'AMRITSAR', 'BARNALA', 'BATHINDA', 'FARIDKOT', 'FATEHGARH SAHIB',\n",
       "       'FAZILKA', 'FIROZEPUR', 'GURDASPUR', 'HOSHIARPUR', 'JALANDHAR',\n",
       "       'KAPURTHALA', 'LUDHIANA', 'MANSA', 'MOGA', 'MUKTSAR', 'NAWANSHAHR',\n",
       "       'PATHANKOT', 'PATIALA', 'RUPNAGAR', 'S.A.S NAGAR', 'SANGRUR',\n",
       "       'TARN TARAN', 'AJMER', 'ALWAR', 'BANSWARA', 'BARAN', 'BARMER',\n",
       "       'BHARATPUR', 'BHILWARA', 'BIKANER', 'BUNDI', 'CHITTORGARH',\n",
       "       'CHURU', 'DAUSA', 'DHOLPUR', 'DUNGARPUR', 'GANGANAGAR',\n",
       "       'HANUMANGARH', 'JAIPUR', 'JAISALMER', 'JALORE', 'JHALAWAR',\n",
       "       'JHUNJHUNU', 'JODHPUR', 'KARAULI', 'KOTA', 'NAGAUR', 'PALI',\n",
       "       'PRATAPGARH', 'RAJSAMAND', 'SAWAI MADHOPUR', 'SIKAR', 'SIROHI',\n",
       "       'TONK', 'UDAIPUR', 'EAST DISTRICT', 'NORTH DISTRICT',\n",
       "       'SOUTH DISTRICT', 'WEST DISTRICT', 'ARIYALUR', 'COIMBATORE',\n",
       "       'CUDDALORE', 'DHARMAPURI', 'DINDIGUL', 'ERODE', 'KANCHIPURAM',\n",
       "       'KANNIYAKUMARI', 'KARUR', 'KRISHNAGIRI', 'MADURAI', 'NAGAPATTINAM',\n",
       "       'NAMAKKAL', 'PERAMBALUR', 'PUDUKKOTTAI', 'RAMANATHAPURAM', 'SALEM',\n",
       "       'SIVAGANGA', 'THANJAVUR', 'THE NILGIRIS', 'THENI', 'THIRUVALLUR',\n",
       "       'THIRUVARUR', 'TIRUCHIRAPPALLI', 'TIRUNELVELI', 'TIRUPPUR',\n",
       "       'TIRUVANNAMALAI', 'TUTICORIN', 'VELLORE', 'VILLUPURAM',\n",
       "       'VIRUDHUNAGAR', 'ADILABAD', 'HYDERABAD', 'KARIMNAGAR', 'KHAMMAM',\n",
       "       'MAHBUBNAGAR', 'MEDAK', 'NALGONDA', 'NIZAMABAD', 'RANGAREDDI',\n",
       "       'WARANGAL', 'DHALAI', 'GOMATI', 'KHOWAI', 'NORTH TRIPURA',\n",
       "       'SEPAHIJALA', 'SOUTH TRIPURA', 'UNAKOTI', 'WEST TRIPURA', 'AGRA',\n",
       "       'ALIGARH', 'ALLAHABAD', 'AMBEDKAR NAGAR', 'AMETHI', 'AMROHA',\n",
       "       'AURAIYA', 'AZAMGARH', 'BAGHPAT', 'BAHRAICH', 'BALLIA', 'BANDA',\n",
       "       'BARABANKI', 'BAREILLY', 'BASTI', 'BIJNOR', 'BUDAUN',\n",
       "       'BULANDSHAHR', 'CHANDAULI', 'CHITRAKOOT', 'DEORIA', 'ETAH',\n",
       "       'ETAWAH', 'FAIZABAD', 'FARRUKHABAD', 'FATEHPUR', 'FIROZABAD',\n",
       "       'GAUTAM BUDDHA NAGAR', 'GHAZIABAD', 'GHAZIPUR', 'GONDA',\n",
       "       'GORAKHPUR', 'HAPUR', 'HARDOI', 'HATHRAS', 'JALAUN', 'JAUNPUR',\n",
       "       'JHANSI', 'KANNAUJ', 'KANPUR DEHAT', 'KANPUR NAGAR', 'KASGANJ',\n",
       "       'KAUSHAMBI', 'KHERI', 'KUSHI NAGAR', 'LALITPUR', 'LUCKNOW',\n",
       "       'MAHARAJGANJ', 'MAHOBA', 'MAINPURI', 'MATHURA', 'MAU', 'MEERUT',\n",
       "       'MIRZAPUR', 'MORADABAD', 'MUZAFFARNAGAR', 'PILIBHIT', 'RAE BARELI',\n",
       "       'RAMPUR', 'SAHARANPUR', 'SAMBHAL', 'SANT KABEER NAGAR',\n",
       "       'SANT RAVIDAS NAGAR', 'SHAHJAHANPUR', 'SHAMLI', 'SHRAVASTI',\n",
       "       'SIDDHARTH NAGAR', 'SITAPUR', 'SONBHADRA', 'SULTANPUR', 'UNNAO',\n",
       "       'VARANASI', 'ALMORA', 'BAGESHWAR', 'CHAMOLI', 'CHAMPAWAT',\n",
       "       'DEHRADUN', 'HARIDWAR', 'NAINITAL', 'PAURI GARHWAL', 'PITHORAGARH',\n",
       "       'RUDRA PRAYAG', 'TEHRI GARHWAL', 'UDAM SINGH NAGAR', 'UTTAR KASHI',\n",
       "       '24 PARAGANAS NORTH', '24 PARAGANAS SOUTH', 'BANKURA', 'BARDHAMAN',\n",
       "       'BIRBHUM', 'COOCHBEHAR', 'DARJEELING', 'DINAJPUR DAKSHIN',\n",
       "       'DINAJPUR UTTAR', 'HOOGHLY', 'HOWRAH', 'JALPAIGURI', 'MALDAH',\n",
       "       'MEDINIPUR EAST', 'MEDINIPUR WEST', 'MURSHIDABAD', 'NADIA',\n",
       "       'PURULIA'], dtype=object)"
      ]
     },
     "execution_count": 15,
     "metadata": {},
     "output_type": "execute_result"
    }
   ],
   "source": [
    "df.District_Name.unique()"
   ]
  },
  {
   "cell_type": "code",
   "execution_count": 16,
   "metadata": {},
   "outputs": [
    {
     "data": {
      "text/plain": [
       "TUMKUR       931\n",
       "BELGAUM      924\n",
       "BIJAPUR      905\n",
       "HASSAN       895\n",
       "BELLARY      887\n",
       "            ... \n",
       "HYDERABAD      8\n",
       "KHUNTI         6\n",
       "RAMGARH        6\n",
       "MUMBAI         1\n",
       "NAMSAI         1\n",
       "Name: District_Name, Length: 646, dtype: int64"
      ]
     },
     "execution_count": 16,
     "metadata": {},
     "output_type": "execute_result"
    }
   ],
   "source": [
    "df.District_Name.value_counts()"
   ]
  },
  {
   "cell_type": "markdown",
   "metadata": {},
   "source": [
    "# Crop Year Variable"
   ]
  },
  {
   "cell_type": "code",
   "execution_count": 17,
   "metadata": {},
   "outputs": [
    {
     "name": "stdout",
     "output_type": "stream",
     "text": [
      "19\n",
      "1997\n",
      "2015\n",
      "2003    17139\n",
      "2002    16536\n",
      "2007    14269\n",
      "2008    14230\n",
      "2006    13976\n",
      "2004    13858\n",
      "2010    13793\n",
      "2011    13791\n",
      "2009    13767\n",
      "2000    13553\n",
      "2005    13519\n",
      "2013    13475\n",
      "2001    13293\n",
      "2012    13184\n",
      "1999    12441\n",
      "1998    11262\n",
      "2014    10815\n",
      "1997     8899\n",
      "2015      561\n",
      "Name: Crop_Year, dtype: int64\n"
     ]
    }
   ],
   "source": [
    "print(df.Crop_Year.nunique())\n",
    "print(df.Crop_Year.min())\n",
    "print(df.Crop_Year.max())\n",
    "print(df.Crop_Year.value_counts())"
   ]
  },
  {
   "cell_type": "markdown",
   "metadata": {},
   "source": [
    "# Season Variable"
   ]
  },
  {
   "cell_type": "code",
   "execution_count": 18,
   "metadata": {},
   "outputs": [
    {
     "name": "stdout",
     "output_type": "stream",
     "text": [
      "6\n",
      "['Kharif     ' 'Whole Year ' 'Autumn     ' 'Rabi       ' 'Summer     '\n",
      " 'Winter     ']\n",
      "Winter     \n",
      "Kharif         94283\n",
      "Rabi           66160\n",
      "Whole Year     56127\n",
      "Summer         14811\n",
      "Winter          6050\n",
      "Autumn          4930\n",
      "Name: Season, dtype: int64\n"
     ]
    }
   ],
   "source": [
    "print(df.Season.nunique())\n",
    "print(df.Season.unique())\n",
    "print(df.Season.max())\n",
    "print(df.Season.value_counts())"
   ]
  },
  {
   "cell_type": "code",
   "execution_count": 19,
   "metadata": {},
   "outputs": [
    {
     "name": "stdout",
     "output_type": "stream",
     "text": [
      "6\n",
      "['Kharif     ' 'Whole Year ' 'Autumn     ' 'Rabi       ' 'Summer     '\n",
      " 'Winter     ']\n",
      "Winter     \n",
      "Kharif         94283\n",
      "Rabi           66160\n",
      "Whole Year     56127\n",
      "Summer         14811\n",
      "Winter          6050\n",
      "Autumn          4930\n",
      "Name: Season, dtype: int64\n"
     ]
    }
   ],
   "source": [
    "print(df.Season.nunique())\n",
    "print(df.Season.unique())\n",
    "print(df.Season.max())\n",
    "print(df.Season.value_counts())"
   ]
  },
  {
   "cell_type": "code",
   "execution_count": 20,
   "metadata": {},
   "outputs": [
    {
     "name": "stdout",
     "output_type": "stream",
     "text": [
      "124\n",
      "['Arecanut' 'Other Kharif pulses' 'Rice' 'Banana' 'Cashewnut' 'Coconut '\n",
      " 'Dry ginger' 'Sugarcane' 'Sweet potato' 'Tapioca' 'Black pepper'\n",
      " 'Dry chillies' 'other oilseeds' 'Turmeric' 'Maize' 'Moong(Green Gram)'\n",
      " 'Urad' 'Arhar/Tur' 'Groundnut' 'Sunflower' 'Bajra' 'Castor seed'\n",
      " 'Cotton(lint)' 'Horse-gram' 'Jowar' 'Korra' 'Ragi' 'Tobacco' 'Gram'\n",
      " 'Wheat' 'Masoor' 'Sesamum' 'Linseed' 'Safflower' 'Onion'\n",
      " 'other misc. pulses' 'Samai' 'Small millets' 'Coriander' 'Potato'\n",
      " 'Other  Rabi pulses' 'Soyabean' 'Beans & Mutter(Vegetable)' 'Bhindi'\n",
      " 'Brinjal' 'Citrus Fruit' 'Cucumber' 'Grapes' 'Mango' 'Orange'\n",
      " 'other fibres' 'Other Fresh Fruits' 'Other Vegetables' 'Papaya'\n",
      " 'Pome Fruit' 'Tomato' 'Mesta' 'Cowpea(Lobia)' 'Lemon' 'Pome Granet'\n",
      " 'Sapota' 'Cabbage' 'Rapeseed &Mustard' 'Peas  (vegetable)' 'Niger seed'\n",
      " 'Bottle Gourd' 'Varagu' 'Garlic' 'Ginger' 'Oilseeds total' 'Pulses total'\n",
      " 'Jute' 'Peas & beans (Pulses)' 'Blackgram' 'Paddy' 'Pineapple' 'Barley'\n",
      " 'Sannhamp' 'Khesari' 'Guar seed' 'Moth' 'Other Cereals & Millets'\n",
      " 'Cond-spcs other' 'Turnip' 'Carrot' 'Redish' 'Arcanut (Processed)'\n",
      " 'Atcanut (Raw)' 'Cashewnut Processed' 'Cashewnut Raw' 'Cardamom' 'Rubber'\n",
      " 'Bitter Gourd' 'Drum Stick' 'Jack Fruit' 'Snak Guard' 'Tea' 'Coffee'\n",
      " 'Cauliflower' 'Other Citrus Fruit' 'Water Melon' 'Total foodgrain'\n",
      " 'Kapas' 'Colocosia' 'Lentil' 'Bean' 'Jobster' 'Perilla' 'Rajmash Kholar'\n",
      " 'Ricebean (nagadal)' 'Ash Gourd' 'Beet Root' 'Lab-Lab' 'Ribed Guard'\n",
      " 'Yam' 'Pump Kin' 'Apple' 'Peach' 'Pear' 'Plums' 'Litchi' 'Ber'\n",
      " 'Other Dry Fruit' 'Jute & mesta']\n",
      "other oilseeds\n",
      "Rice                     15082\n",
      "Maize                    13787\n",
      "Moong(Green Gram)        10106\n",
      "Urad                      9710\n",
      "Sesamum                   8821\n",
      "Groundnut                 8770\n",
      "Wheat                     7878\n",
      "Sugarcane                 7827\n",
      "Rapeseed &Mustard         7533\n",
      "Arhar/Tur                 7476\n",
      "Gram                      7227\n",
      "Jowar                     6990\n",
      "Onion                     6984\n",
      "Potato                    6914\n",
      "Dry chillies              6421\n",
      "Sunflower                 5483\n",
      "Bajra                     5379\n",
      "Small millets             4593\n",
      "Peas & beans (Pulses)     4447\n",
      "Cotton(lint)              4382\n",
      "Name: Crop, dtype: int64\n"
     ]
    }
   ],
   "source": [
    "print(df.Crop.nunique())\n",
    "print(df.Crop.unique())\n",
    "print(df.Crop.max())\n",
    "print(df.Crop.value_counts().head(20))"
   ]
  },
  {
   "cell_type": "markdown",
   "metadata": {},
   "source": [
    "# Production Variable"
   ]
  },
  {
   "cell_type": "code",
   "execution_count": 21,
   "metadata": {},
   "outputs": [
    {
     "data": {
      "text/plain": [
       "count    2.423610e+05\n",
       "mean     5.825034e+05\n",
       "std      1.706581e+07\n",
       "min      0.000000e+00\n",
       "25%      8.800000e+01\n",
       "50%      7.290000e+02\n",
       "75%      7.023000e+03\n",
       "max      1.250800e+09\n",
       "Name: Production, dtype: float64"
      ]
     },
     "execution_count": 21,
     "metadata": {},
     "output_type": "execute_result"
    }
   ],
   "source": [
    "df.Production.describe()"
   ]
  },
  {
   "cell_type": "code",
   "execution_count": 22,
   "metadata": {},
   "outputs": [
    {
     "data": {
      "image/png": "[encoded data removed]",
      "text/plain": [
       "<Figure size 432x288 with 1 Axes>"
      ]
     },
     "metadata": {
      "needs_background": "light"
     },
     "output_type": "display_data"
    }
   ],
   "source": [
    "#Production values range from 0 to 1250800000\n",
    "plt.boxplot(df.Area);"
   ]
  },
  {
   "cell_type": "code",
   "execution_count": 23,
   "metadata": {},
   "outputs": [
    {
     "data": {
      "image/png": "[encoded data removed]",
      "text/plain": [
       "<Figure size 432x288 with 1 Axes>"
      ]
     },
     "metadata": {
      "needs_background": "light"
     },
     "output_type": "display_data"
    }
   ],
   "source": [
    "plt.boxplot(df.Production);"
   ]
  },
  {
   "cell_type": "code",
   "execution_count": 24,
   "metadata": {},
   "outputs": [
    {
     "data": {
      "image/png": "[encoded data removed]",
      "text/plain": [
       "<Figure size 1080x1080 with 1 Axes>"
      ]
     },
     "metadata": {
      "needs_background": "light"
     },
     "output_type": "display_data"
    }
   ],
   "source": [
    "#Kerala is top state when we look at the quantum of Production for last 19.years.\n",
    "plt.figure(figsize= (15,15))\n",
    "sns.barplot(x=df['Production'],y= df[\"State_Name\"], orient='h');"
   ]
  },
  {
   "cell_type": "code",
   "execution_count": 25,
   "metadata": {},
   "outputs": [
    {
     "data": {
      "text/html": [
       "<div>\n",
       "<style scoped>\n",
       "    .dataframe tbody tr th:only-of-type {\n",
       "        vertical-align: middle;\n",
       "    }\n",
       "\n",
       "    .dataframe tbody tr th {\n",
       "        vertical-align: top;\n",
       "    }\n",
       "\n",
       "    .dataframe thead th {\n",
       "        text-align: right;\n",
       "    }\n",
       "</style>\n",
       "<table border=\"1\" class=\"dataframe\">\n",
       "  <thead>\n",
       "    <tr style=\"text-align: right;\">\n",
       "      <th></th>\n",
       "      <th>Crop_Year</th>\n",
       "      <th>Area</th>\n",
       "      <th>Production</th>\n",
       "    </tr>\n",
       "  </thead>\n",
       "  <tbody>\n",
       "    <tr>\n",
       "      <th>count</th>\n",
       "      <td>242361.000000</td>\n",
       "      <td>2.423610e+05</td>\n",
       "      <td>2.423610e+05</td>\n",
       "    </tr>\n",
       "    <tr>\n",
       "      <th>mean</th>\n",
       "      <td>2005.625773</td>\n",
       "      <td>1.216741e+04</td>\n",
       "      <td>5.825034e+05</td>\n",
       "    </tr>\n",
       "    <tr>\n",
       "      <th>std</th>\n",
       "      <td>4.958285</td>\n",
       "      <td>5.085744e+04</td>\n",
       "      <td>1.706581e+07</td>\n",
       "    </tr>\n",
       "    <tr>\n",
       "      <th>min</th>\n",
       "      <td>1997.000000</td>\n",
       "      <td>1.000000e-01</td>\n",
       "      <td>0.000000e+00</td>\n",
       "    </tr>\n",
       "    <tr>\n",
       "      <th>25%</th>\n",
       "      <td>2002.000000</td>\n",
       "      <td>8.700000e+01</td>\n",
       "      <td>8.800000e+01</td>\n",
       "    </tr>\n",
       "    <tr>\n",
       "      <th>50%</th>\n",
       "      <td>2006.000000</td>\n",
       "      <td>6.030000e+02</td>\n",
       "      <td>7.290000e+02</td>\n",
       "    </tr>\n",
       "    <tr>\n",
       "      <th>75%</th>\n",
       "      <td>2010.000000</td>\n",
       "      <td>4.545000e+03</td>\n",
       "      <td>7.023000e+03</td>\n",
       "    </tr>\n",
       "    <tr>\n",
       "      <th>max</th>\n",
       "      <td>2015.000000</td>\n",
       "      <td>8.580100e+06</td>\n",
       "      <td>1.250800e+09</td>\n",
       "    </tr>\n",
       "  </tbody>\n",
       "</table>\n",
       "</div>"
      ],
      "text/plain": [
       "           Crop_Year          Area    Production\n",
       "count  242361.000000  2.423610e+05  2.423610e+05\n",
       "mean     2005.625773  1.216741e+04  5.825034e+05\n",
       "std         4.958285  5.085744e+04  1.706581e+07\n",
       "min      1997.000000  1.000000e-01  0.000000e+00\n",
       "25%      2002.000000  8.700000e+01  8.800000e+01\n",
       "50%      2006.000000  6.030000e+02  7.290000e+02\n",
       "75%      2010.000000  4.545000e+03  7.023000e+03\n",
       "max      2015.000000  8.580100e+06  1.250800e+09"
      ]
     },
     "execution_count": 25,
     "metadata": {},
     "output_type": "execute_result"
    }
   ],
   "source": [
    "df.describe()"
   ]
  },
  {
   "cell_type": "code",
   "execution_count": 26,
   "metadata": {},
   "outputs": [
    {
     "data": {
      "text/plain": [
       "(array([2.42347e+05, 6.00000e+00, 5.00000e+00, 2.00000e+00, 1.00000e+00]),\n",
       " array([1.00000000e-01, 1.71602008e+06, 3.43204006e+06, 5.14806004e+06,\n",
       "        6.86408002e+06, 8.58010000e+06]),\n",
       " <a list of 5 Patch objects>)"
      ]
     },
     "execution_count": 26,
     "metadata": {},
     "output_type": "execute_result"
    },
    {
     "data": {
      "image/png": "[encoded data removed]",
      "text/plain": [
       "<Figure size 432x288 with 1 Axes>"
      ]
     },
     "metadata": {
      "needs_background": "light"
     },
     "output_type": "display_data"
    }
   ],
   "source": [
    "plt.hist(df.Area, bins = 5)"
   ]
  },
  {
   "cell_type": "code",
   "execution_count": 27,
   "metadata": {},
   "outputs": [
    {
     "data": {
      "text/plain": [
       "(array([2.42304e+05, 5.70000e+01]),\n",
       " array([0.0000e+00, 6.2540e+08, 1.2508e+09]),\n",
       " <a list of 2 Patch objects>)"
      ]
     },
     "execution_count": 27,
     "metadata": {},
     "output_type": "execute_result"
    },
    {
     "data": {
      "image/png": "[encoded data removed]",
      "text/plain": [
       "<Figure size 432x288 with 1 Axes>"
      ]
     },
     "metadata": {
      "needs_background": "light"
     },
     "output_type": "display_data"
    }
   ],
   "source": [
    "plt.hist(df.Production, bins = 2)"
   ]
  },
  {
   "cell_type": "markdown",
   "metadata": {},
   "source": [
    "# Creating New Variables for Different Zones\n",
    "## Union Terr, South Zone, NE Zone, East Zone, North Zone, Central Zone and West Zone"
   ]
  },
  {
   "cell_type": "code",
   "execution_count": 28,
   "metadata": {},
   "outputs": [],
   "source": [
    "#Zone-Wise Production - 1997-2014\n",
    "north_india = ['Jammu and Kashmir', 'Punjab', 'Himachal Pradesh', 'Haryana', 'Uttarakhand', 'Uttar Pradesh', 'Chandigarh']\n",
    "east_india = ['Bihar', 'Odisha', 'Jharkhand', 'West Bengal']\n",
    "south_india = ['Andhra Pradesh', 'Karnataka', 'Kerala' ,'Tamil Nadu', 'Telangana']\n",
    "west_india = ['Rajasthan' , 'Gujarat', 'Goa','Maharashtra']\n",
    "central_india = ['Madhya Pradesh', 'Chhattisgarh']\n",
    "north_east_india = ['Assam', 'Sikkim', 'Nagaland', 'Meghalaya', 'Manipur', 'Mizoram', 'Tripura', 'Arunachal Pradesh']\n",
    "ut_india = ['Andaman and Nicobar Islands', 'Dadra and Nagar Haveli', 'Puducherry']"
   ]
  },
  {
   "cell_type": "code",
   "execution_count": 29,
   "metadata": {},
   "outputs": [
    {
     "data": {
      "text/plain": [
       "array(['Union Terr', 'South Zone', 'NE Zone', 'East Zone', 'North Zone',\n",
       "       'Central Zone', 'West Zone'], dtype=object)"
      ]
     },
     "execution_count": 29,
     "metadata": {},
     "output_type": "execute_result"
    }
   ],
   "source": [
    "def get_zonal_names(row):\n",
    "    if row['State_Name'].strip() in north_india:\n",
    "        val = 'North Zone'\n",
    "    elif row['State_Name'].strip()  in south_india:\n",
    "        val = 'South Zone'\n",
    "    elif row['State_Name'].strip()  in east_india:\n",
    "        val = 'East Zone'\n",
    "    elif row['State_Name'].strip()  in west_india:\n",
    "        val = 'West Zone'\n",
    "    elif row['State_Name'].strip()  in central_india:\n",
    "        val = 'Central Zone'\n",
    "    elif row['State_Name'].strip()  in north_east_india:\n",
    "        val = 'NE Zone'\n",
    "    elif row['State_Name'].strip()  in ut_india:\n",
    "        val = 'Union Terr'\n",
    "    else:\n",
    "        val = 'No Value'\n",
    "    return val\n",
    "\n",
    "df['Zones'] = df.apply(get_zonal_names, axis=1)\n",
    "df['Zones'].unique()"
   ]
  },
  {
   "cell_type": "code",
   "execution_count": 30,
   "metadata": {},
   "outputs": [
    {
     "data": {
      "text/plain": [
       "South Zone      53500\n",
       "North Zone      49874\n",
       "East Zone       43261\n",
       "West Zone       33134\n",
       "Central Zone    32972\n",
       "NE Zone         28284\n",
       "Union Terr       1336\n",
       "Name: Zones, dtype: int64"
      ]
     },
     "execution_count": 30,
     "metadata": {},
     "output_type": "execute_result"
    }
   ],
   "source": [
    "#Using Zonal information, we can decipher the top zones are South India, North India and East India.\n",
    "df.Zones.value_counts()"
   ]
  },
  {
   "cell_type": "code",
   "execution_count": 31,
   "metadata": {},
   "outputs": [],
   "source": [
    "crop=df['Crop']\n",
    "def cat_crop(crop):\n",
    "    for i in ['Rice','Maize','Wheat','Barley','Varagu','Other Cereals & Millets','Ragi','Small millets','Bajra','Jowar', 'Paddy','Total foodgrain','Jobster']:\n",
    "        if crop==i:\n",
    "            return 'Cereal'\n",
    "    for i in ['Moong','Urad','Arhar/Tur','Peas & beans','Masoor',\n",
    "              'Other Kharif pulses','other misc. pulses','Ricebean (nagadal)',\n",
    "              'Rajmash Kholar','Lentil','Samai','Blackgram','Korra','Cowpea(Lobia)',\n",
    "              'Other  Rabi pulses','Other Kharif pulses','Peas & beans (Pulses)','Pulses total','Gram']:\n",
    "        if crop==i:\n",
    "            return 'Pulses'\n",
    "    for i in ['Peach','Apple','Litchi','Pear','Plums','Ber','Sapota','Lemon','Pome Granet',\n",
    "               'Other Citrus Fruit','Water Melon','Jack Fruit','Grapes','Pineapple','Orange',\n",
    "               'Pome Fruit','Citrus Fruit','Other Fresh Fruits','Mango','Papaya','Coconut','Banana']:\n",
    "        if crop==i:\n",
    "            return 'Fruits'\n",
    "    for i in ['Bean','Lab-Lab','Moth','Guar seed','Soyabean','Horse-gram']:\n",
    "        if crop==i:\n",
    "            return 'Beans'\n",
    "    for i in ['Turnip','Peas','Beet Root','Carrot','Yam','Ribed Guard','Ash Gourd ','Pump Kin','Redish','Snak Guard','Bottle Gourd',\n",
    "              'Bitter Gourd','Cucumber','Drum Stick','Cauliflower','Beans & Mutter(Vegetable)','Cabbage',\n",
    "              'Bhindi','Tomato','Brinjal','Khesari','Sweet potato','Potato','Onion','Tapioca','Colocosia']:\n",
    "              if crop==i:\n",
    "                return 'Vegetables'\n",
    "    for i in ['Perilla','Ginger','Cardamom','Black pepper','Dry ginger','Garlic','Coriander','Turmeric','Dry chillies','Cond-spcs other']:\n",
    "        if crop==i:\n",
    "            return 'spices'\n",
    "    for i in ['other fibres','Kapas','Jute & mesta','Jute','Mesta','Cotton(lint)','Sannhamp']:\n",
    "        if crop==i:\n",
    "            return 'fibres'\n",
    "    for i in ['Arcanut (Processed)','Atcanut (Raw)','Cashewnut Processed','Cashewnut Raw','Cashewnut','Arecanut','Groundnut']:\n",
    "        if crop==i:\n",
    "            return 'Nuts'\n",
    "    for i in ['other oilseeds','Safflower','Niger seed','Castor seed','Linseed','Sunflower','Rapeseed &Mustard','Sesamum','Oilseeds total']:\n",
    "        if crop==i:\n",
    "            return 'oilseeds'\n",
    "    for i in ['Tobacco','Coffee','Tea','Sugarcane','Rubber']:\n",
    "        if crop==i:\n",
    "            return 'Commercial'\n",
    "\n",
    "df['cat_crop']=df['Crop'].apply(cat_crop)"
   ]
  },
  {
   "cell_type": "code",
   "execution_count": 32,
   "metadata": {},
   "outputs": [
    {
     "data": {
      "text/plain": [
       "Cereal        63283\n",
       "Pulses        40898\n",
       "oilseeds      33801\n",
       "Vegetables    23154\n",
       "spices        21638\n",
       "Nuts          11472\n",
       "Commercial    10561\n",
       "fibres         9785\n",
       "Beans          9115\n",
       "Fruits         6153\n",
       "Name: cat_crop, dtype: int64"
      ]
     },
     "execution_count": 32,
     "metadata": {},
     "output_type": "execute_result"
    }
   ],
   "source": [
    "df[\"cat_crop\"].value_counts()"
   ]
  },
  {
   "cell_type": "code",
   "execution_count": 33,
   "metadata": {},
   "outputs": [
    {
     "data": {
      "text/html": [
       "<div>\n",
       "<style scoped>\n",
       "    .dataframe tbody tr th:only-of-type {\n",
       "        vertical-align: middle;\n",
       "    }\n",
       "\n",
       "    .dataframe tbody tr th {\n",
       "        vertical-align: top;\n",
       "    }\n",
       "\n",
       "    .dataframe thead th {\n",
       "        text-align: right;\n",
       "    }\n",
       "</style>\n",
       "<table border=\"1\" class=\"dataframe\">\n",
       "  <thead>\n",
       "    <tr style=\"text-align: right;\">\n",
       "      <th></th>\n",
       "      <th>State_Name</th>\n",
       "      <th>District_Name</th>\n",
       "      <th>Crop_Year</th>\n",
       "      <th>Season</th>\n",
       "      <th>Crop</th>\n",
       "      <th>Area</th>\n",
       "      <th>Production</th>\n",
       "      <th>Zones</th>\n",
       "      <th>cat_crop</th>\n",
       "    </tr>\n",
       "  </thead>\n",
       "  <tbody>\n",
       "    <tr>\n",
       "      <th>0</th>\n",
       "      <td>Andaman and Nicobar Islands</td>\n",
       "      <td>NICOBARS</td>\n",
       "      <td>2000</td>\n",
       "      <td>Kharif</td>\n",
       "      <td>Arecanut</td>\n",
       "      <td>1254.0</td>\n",
       "      <td>2000.0</td>\n",
       "      <td>Union Terr</td>\n",
       "      <td>Nuts</td>\n",
       "    </tr>\n",
       "    <tr>\n",
       "      <th>1</th>\n",
       "      <td>Andaman and Nicobar Islands</td>\n",
       "      <td>NICOBARS</td>\n",
       "      <td>2000</td>\n",
       "      <td>Kharif</td>\n",
       "      <td>Other Kharif pulses</td>\n",
       "      <td>2.0</td>\n",
       "      <td>1.0</td>\n",
       "      <td>Union Terr</td>\n",
       "      <td>Pulses</td>\n",
       "    </tr>\n",
       "    <tr>\n",
       "      <th>2</th>\n",
       "      <td>Andaman and Nicobar Islands</td>\n",
       "      <td>NICOBARS</td>\n",
       "      <td>2000</td>\n",
       "      <td>Kharif</td>\n",
       "      <td>Rice</td>\n",
       "      <td>102.0</td>\n",
       "      <td>321.0</td>\n",
       "      <td>Union Terr</td>\n",
       "      <td>Cereal</td>\n",
       "    </tr>\n",
       "    <tr>\n",
       "      <th>3</th>\n",
       "      <td>Andaman and Nicobar Islands</td>\n",
       "      <td>NICOBARS</td>\n",
       "      <td>2000</td>\n",
       "      <td>Whole Year</td>\n",
       "      <td>Banana</td>\n",
       "      <td>176.0</td>\n",
       "      <td>641.0</td>\n",
       "      <td>Union Terr</td>\n",
       "      <td>Fruits</td>\n",
       "    </tr>\n",
       "    <tr>\n",
       "      <th>4</th>\n",
       "      <td>Andaman and Nicobar Islands</td>\n",
       "      <td>NICOBARS</td>\n",
       "      <td>2000</td>\n",
       "      <td>Whole Year</td>\n",
       "      <td>Cashewnut</td>\n",
       "      <td>720.0</td>\n",
       "      <td>165.0</td>\n",
       "      <td>Union Terr</td>\n",
       "      <td>Nuts</td>\n",
       "    </tr>\n",
       "  </tbody>\n",
       "</table>\n",
       "</div>"
      ],
      "text/plain": [
       "                    State_Name District_Name  Crop_Year       Season  \\\n",
       "0  Andaman and Nicobar Islands      NICOBARS       2000  Kharif        \n",
       "1  Andaman and Nicobar Islands      NICOBARS       2000  Kharif        \n",
       "2  Andaman and Nicobar Islands      NICOBARS       2000  Kharif        \n",
       "3  Andaman and Nicobar Islands      NICOBARS       2000  Whole Year    \n",
       "4  Andaman and Nicobar Islands      NICOBARS       2000  Whole Year    \n",
       "\n",
       "                  Crop    Area  Production       Zones cat_crop  \n",
       "0             Arecanut  1254.0      2000.0  Union Terr     Nuts  \n",
       "1  Other Kharif pulses     2.0         1.0  Union Terr   Pulses  \n",
       "2                 Rice   102.0       321.0  Union Terr   Cereal  \n",
       "3               Banana   176.0       641.0  Union Terr   Fruits  \n",
       "4            Cashewnut   720.0       165.0  Union Terr     Nuts  "
      ]
     },
     "execution_count": 33,
     "metadata": {},
     "output_type": "execute_result"
    }
   ],
   "source": [
    "df.head()"
   ]
  },
  {
   "cell_type": "code",
   "execution_count": 34,
   "metadata": {},
   "outputs": [],
   "source": [
    "data_explore = df.copy()"
   ]
  },
  {
   "cell_type": "markdown",
   "metadata": {},
   "source": [
    "# Zone distribution of crops:"
   ]
  },
  {
   "cell_type": "code",
   "execution_count": 35,
   "metadata": {},
   "outputs": [
    {
     "data": {
      "text/plain": [
       "Text(0.5, 1.0, 'Zone-Wise Production: Total')"
      ]
     },
     "execution_count": 35,
     "metadata": {},
     "output_type": "execute_result"
    },
    {
     "data": {
      "image/png": "[encoded data removed]",
      "text/plain": [
       "<Figure size 1080x720 with 1 Axes>"
      ]
     },
     "metadata": {
      "needs_background": "light"
     },
     "output_type": "display_data"
    }
   ],
   "source": [
    "fig, ax = plt.subplots(figsize=(15,10))\n",
    "sns.barplot(data_explore.Zones.sort_values(ascending=True), data_explore.Production)\n",
    "plt.yscale('log')\n",
    "plt.title('Zone-Wise Production: Total')"
   ]
  },
  {
   "cell_type": "markdown",
   "metadata": {},
   "source": [
    "# Production wise top zone is South India"
   ]
  },
  {
   "cell_type": "code",
   "execution_count": 36,
   "metadata": {},
   "outputs": [
    {
     "data": {
      "text/plain": [
       "Text(0.5, 1.0, 'Southern-Zone Production')"
      ]
     },
     "execution_count": 36,
     "metadata": {},
     "output_type": "execute_result"
    },
    {
     "data": {
      "image/png": "[encoded data removed]",
      "text/plain": [
       "<Figure size 1080x720 with 1 Axes>"
      ]
     },
     "metadata": {
      "needs_background": "light"
     },
     "output_type": "display_data"
    }
   ],
   "source": [
    "south_zone =  data_explore[(data_explore[\"Zones\"] == 'South Zone')]\n",
    "fig, ax = plt.subplots(figsize=(15,10))\n",
    "sns.barplot(south_zone.State_Name, south_zone.Production,errwidth=0)\n",
    "plt.yscale('log')\n",
    "plt.title('Southern-Zone Production')"
   ]
  },
  {
   "cell_type": "markdown",
   "metadata": {},
   "source": [
    "# Crop wise Production status"
   ]
  },
  {
   "cell_type": "code",
   "execution_count": 37,
   "metadata": {},
   "outputs": [
    {
     "data": {
      "text/plain": [
       "Text(0.5, 1.0, 'Overall Crops vs Production')"
      ]
     },
     "execution_count": 37,
     "metadata": {},
     "output_type": "execute_result"
    },
    {
     "data": {
      "image/png": "[encoded data removed]",
      "text/plain": [
       "<Figure size 1080x720 with 1 Axes>"
      ]
     },
     "metadata": {
      "needs_background": "light"
     },
     "output_type": "display_data"
    }
   ],
   "source": [
    "#Overall Crop Production\n",
    "crop = data_explore.groupby(by='Crop')['Production'].sum().reset_index().sort_values(by='Production', ascending=False).head(10)\n",
    "crop \n",
    "fig, ax = plt.subplots(figsize=(15,10))\n",
    "sns.barplot(crop.Crop, crop.Production)\n",
    "plt.yscale('log')\n",
    "plt.title('Overall Crops vs Production')"
   ]
  },
  {
   "cell_type": "markdown",
   "metadata": {},
   "source": [
    "# Yearwise Production Status"
   ]
  },
  {
   "cell_type": "code",
   "execution_count": 38,
   "metadata": {},
   "outputs": [
    {
     "data": {
      "text/plain": [
       "<matplotlib.axes._subplots.AxesSubplot at 0x24086170e48>"
      ]
     },
     "execution_count": 38,
     "metadata": {},
     "output_type": "execute_result"
    },
    {
     "data": {
      "image/png": "[encoded data removed]",
      "text/plain": [
       "<Figure size 432x288 with 1 Axes>"
      ]
     },
     "metadata": {
      "needs_background": "light"
     },
     "output_type": "display_data"
    }
   ],
   "source": [
    "plt.tick_params(labelsize=10)\n",
    "data_explore.groupby(\"Crop_Year\")[\"Production\"].agg(\"sum\").plot.bar()"
   ]
  },
  {
   "cell_type": "markdown",
   "metadata": {},
   "source": [
    "# Season wise Production Status"
   ]
  },
  {
   "cell_type": "code",
   "execution_count": 39,
   "metadata": {},
   "outputs": [
    {
     "data": {
      "text/plain": [
       "Text(0.5, 1.0, 'Seasonal Crops vs Production')"
      ]
     },
     "execution_count": 39,
     "metadata": {},
     "output_type": "execute_result"
    },
    {
     "data": {
      "image/png": "[encoded data removed]",
      "text/plain": [
       "<Figure size 1080x720 with 1 Axes>"
      ]
     },
     "metadata": {
      "needs_background": "light"
     },
     "output_type": "display_data"
    }
   ],
   "source": [
    "#Season vs Production\n",
    "df_season=data_explore.copy()\n",
    "season = df_season.groupby(by='Season')['Production'].sum().reset_index().sort_values(by='Production', ascending=False).head(10)\n",
    "season\n",
    "fig, ax = plt.subplots(figsize=(15,10))\n",
    "sns.barplot(season.Season, season.Production,errwidth=0)\n",
    "plt.yscale('log')\n",
    "plt.title('Seasonal Crops vs Production')"
   ]
  },
  {
   "cell_type": "markdown",
   "metadata": {},
   "source": [
    "# Crop wise Production plot describing production values for all crop types"
   ]
  },
  {
   "cell_type": "code",
   "execution_count": 40,
   "metadata": {},
   "outputs": [
    {
     "data": {
      "image/png": "[encoded data removed]",
      "text/plain": [
       "<Figure size 1080x576 with 1 Axes>"
      ]
     },
     "metadata": {
      "needs_background": "light"
     },
     "output_type": "display_data"
    }
   ],
   "source": [
    "plt.figure(figsize=(15,8))\n",
    "plt.tick_params(labelsize=10)\n",
    "data_explore.groupby(\"cat_crop\")[\"Production\"].agg(\"count\").plot.bar()\n",
    "plt.show()"
   ]
  },
  {
   "cell_type": "markdown",
   "metadata": {},
   "source": [
    "# Different proportion of Crop Categories for India"
   ]
  },
  {
   "cell_type": "code",
   "execution_count": 41,
   "metadata": {},
   "outputs": [
    {
     "data": {
      "image/png": "[encoded data removed]",
      "text/plain": [
       "<Figure size 432x288 with 1 Axes>"
      ]
     },
     "metadata": {},
     "output_type": "display_data"
    }
   ],
   "source": [
    "df1=data_explore[\"cat_crop\"].value_counts()\n",
    "df1.plot(radius=3,kind=\"pie\",autopct=\"%1.1f\",pctdistance=0.6)\n",
    "plt.tick_params(labelsize=10)"
   ]
  },
  {
   "cell_type": "markdown",
   "metadata": {},
   "source": [
    "# State Dominates in Crop Production diff categories of crops"
   ]
  },
  {
   "cell_type": "code",
   "execution_count": 42,
   "metadata": {},
   "outputs": [
    {
     "data": {
      "text/html": [
       "<div>\n",
       "<style scoped>\n",
       "    .dataframe tbody tr th:only-of-type {\n",
       "        vertical-align: middle;\n",
       "    }\n",
       "\n",
       "    .dataframe tbody tr th {\n",
       "        vertical-align: top;\n",
       "    }\n",
       "\n",
       "    .dataframe thead th {\n",
       "        text-align: right;\n",
       "    }\n",
       "</style>\n",
       "<table border=\"1\" class=\"dataframe\">\n",
       "  <thead>\n",
       "    <tr style=\"text-align: right;\">\n",
       "      <th>cat_crop</th>\n",
       "      <th>Beans</th>\n",
       "      <th>Cereal</th>\n",
       "      <th>Commercial</th>\n",
       "      <th>Fruits</th>\n",
       "      <th>Nuts</th>\n",
       "      <th>Pulses</th>\n",
       "      <th>Vegetables</th>\n",
       "      <th>fibres</th>\n",
       "      <th>oilseeds</th>\n",
       "      <th>spices</th>\n",
       "    </tr>\n",
       "    <tr>\n",
       "      <th>State_Name</th>\n",
       "      <th></th>\n",
       "      <th></th>\n",
       "      <th></th>\n",
       "      <th></th>\n",
       "      <th></th>\n",
       "      <th></th>\n",
       "      <th></th>\n",
       "      <th></th>\n",
       "      <th></th>\n",
       "      <th></th>\n",
       "    </tr>\n",
       "  </thead>\n",
       "  <tbody>\n",
       "    <tr>\n",
       "      <th>Andaman and Nicobar Islands</th>\n",
       "      <td>0</td>\n",
       "      <td>20</td>\n",
       "      <td>15</td>\n",
       "      <td>16</td>\n",
       "      <td>37</td>\n",
       "      <td>9</td>\n",
       "      <td>20</td>\n",
       "      <td>0</td>\n",
       "      <td>11</td>\n",
       "      <td>52</td>\n",
       "    </tr>\n",
       "    <tr>\n",
       "      <th>Andhra Pradesh</th>\n",
       "      <td>386</td>\n",
       "      <td>2264</td>\n",
       "      <td>474</td>\n",
       "      <td>502</td>\n",
       "      <td>674</td>\n",
       "      <td>1336</td>\n",
       "      <td>1046</td>\n",
       "      <td>333</td>\n",
       "      <td>1101</td>\n",
       "      <td>802</td>\n",
       "    </tr>\n",
       "    <tr>\n",
       "      <th>Arunachal Pradesh</th>\n",
       "      <td>26</td>\n",
       "      <td>1021</td>\n",
       "      <td>168</td>\n",
       "      <td>0</td>\n",
       "      <td>26</td>\n",
       "      <td>67</td>\n",
       "      <td>257</td>\n",
       "      <td>0</td>\n",
       "      <td>343</td>\n",
       "      <td>637</td>\n",
       "    </tr>\n",
       "    <tr>\n",
       "      <th>Assam</th>\n",
       "      <td>0</td>\n",
       "      <td>2952</td>\n",
       "      <td>854</td>\n",
       "      <td>920</td>\n",
       "      <td>400</td>\n",
       "      <td>2234</td>\n",
       "      <td>1781</td>\n",
       "      <td>1284</td>\n",
       "      <td>2097</td>\n",
       "      <td>1338</td>\n",
       "    </tr>\n",
       "    <tr>\n",
       "      <th>Bihar</th>\n",
       "      <td>280</td>\n",
       "      <td>6108</td>\n",
       "      <td>756</td>\n",
       "      <td>226</td>\n",
       "      <td>130</td>\n",
       "      <td>3731</td>\n",
       "      <td>1775</td>\n",
       "      <td>924</td>\n",
       "      <td>2504</td>\n",
       "      <td>1396</td>\n",
       "    </tr>\n",
       "    <tr>\n",
       "      <th>Chandigarh</th>\n",
       "      <td>0</td>\n",
       "      <td>39</td>\n",
       "      <td>0</td>\n",
       "      <td>0</td>\n",
       "      <td>0</td>\n",
       "      <td>14</td>\n",
       "      <td>26</td>\n",
       "      <td>0</td>\n",
       "      <td>7</td>\n",
       "      <td>0</td>\n",
       "    </tr>\n",
       "    <tr>\n",
       "      <th>Chhattisgarh</th>\n",
       "      <td>646</td>\n",
       "      <td>1805</td>\n",
       "      <td>316</td>\n",
       "      <td>264</td>\n",
       "      <td>261</td>\n",
       "      <td>2087</td>\n",
       "      <td>1143</td>\n",
       "      <td>535</td>\n",
       "      <td>1496</td>\n",
       "      <td>1288</td>\n",
       "    </tr>\n",
       "    <tr>\n",
       "      <th>Dadra and Nagar Haveli</th>\n",
       "      <td>0</td>\n",
       "      <td>116</td>\n",
       "      <td>12</td>\n",
       "      <td>9</td>\n",
       "      <td>9</td>\n",
       "      <td>64</td>\n",
       "      <td>0</td>\n",
       "      <td>13</td>\n",
       "      <td>30</td>\n",
       "      <td>1</td>\n",
       "    </tr>\n",
       "    <tr>\n",
       "      <th>Goa</th>\n",
       "      <td>0</td>\n",
       "      <td>62</td>\n",
       "      <td>22</td>\n",
       "      <td>16</td>\n",
       "      <td>47</td>\n",
       "      <td>32</td>\n",
       "      <td>0</td>\n",
       "      <td>0</td>\n",
       "      <td>0</td>\n",
       "      <td>12</td>\n",
       "    </tr>\n",
       "    <tr>\n",
       "      <th>Gujarat</th>\n",
       "      <td>403</td>\n",
       "      <td>2466</td>\n",
       "      <td>372</td>\n",
       "      <td>157</td>\n",
       "      <td>683</td>\n",
       "      <td>1521</td>\n",
       "      <td>473</td>\n",
       "      <td>327</td>\n",
       "      <td>1029</td>\n",
       "      <td>512</td>\n",
       "    </tr>\n",
       "    <tr>\n",
       "      <th>Haryana</th>\n",
       "      <td>108</td>\n",
       "      <td>1427</td>\n",
       "      <td>259</td>\n",
       "      <td>52</td>\n",
       "      <td>126</td>\n",
       "      <td>860</td>\n",
       "      <td>463</td>\n",
       "      <td>257</td>\n",
       "      <td>543</td>\n",
       "      <td>248</td>\n",
       "    </tr>\n",
       "    <tr>\n",
       "      <th>Himachal Pradesh</th>\n",
       "      <td>179</td>\n",
       "      <td>726</td>\n",
       "      <td>67</td>\n",
       "      <td>0</td>\n",
       "      <td>54</td>\n",
       "      <td>530</td>\n",
       "      <td>214</td>\n",
       "      <td>37</td>\n",
       "      <td>236</td>\n",
       "      <td>345</td>\n",
       "    </tr>\n",
       "    <tr>\n",
       "      <th>Jammu and Kashmir</th>\n",
       "      <td>12</td>\n",
       "      <td>562</td>\n",
       "      <td>42</td>\n",
       "      <td>24</td>\n",
       "      <td>7</td>\n",
       "      <td>307</td>\n",
       "      <td>196</td>\n",
       "      <td>44</td>\n",
       "      <td>233</td>\n",
       "      <td>115</td>\n",
       "    </tr>\n",
       "    <tr>\n",
       "      <th>Jharkhand</th>\n",
       "      <td>0</td>\n",
       "      <td>575</td>\n",
       "      <td>16</td>\n",
       "      <td>0</td>\n",
       "      <td>0</td>\n",
       "      <td>304</td>\n",
       "      <td>247</td>\n",
       "      <td>0</td>\n",
       "      <td>124</td>\n",
       "      <td>0</td>\n",
       "    </tr>\n",
       "    <tr>\n",
       "      <th>Karnataka</th>\n",
       "      <td>1096</td>\n",
       "      <td>5295</td>\n",
       "      <td>615</td>\n",
       "      <td>598</td>\n",
       "      <td>1470</td>\n",
       "      <td>2776</td>\n",
       "      <td>1763</td>\n",
       "      <td>605</td>\n",
       "      <td>3135</td>\n",
       "      <td>2588</td>\n",
       "    </tr>\n",
       "    <tr>\n",
       "      <th>Kerala</th>\n",
       "      <td>3</td>\n",
       "      <td>819</td>\n",
       "      <td>236</td>\n",
       "      <td>437</td>\n",
       "      <td>536</td>\n",
       "      <td>13</td>\n",
       "      <td>636</td>\n",
       "      <td>12</td>\n",
       "      <td>168</td>\n",
       "      <td>863</td>\n",
       "    </tr>\n",
       "    <tr>\n",
       "      <th>Madhya Pradesh</th>\n",
       "      <td>962</td>\n",
       "      <td>5115</td>\n",
       "      <td>826</td>\n",
       "      <td>659</td>\n",
       "      <td>768</td>\n",
       "      <td>3993</td>\n",
       "      <td>2738</td>\n",
       "      <td>922</td>\n",
       "      <td>3281</td>\n",
       "      <td>2739</td>\n",
       "    </tr>\n",
       "    <tr>\n",
       "      <th>Maharashtra</th>\n",
       "      <td>477</td>\n",
       "      <td>4009</td>\n",
       "      <td>458</td>\n",
       "      <td>83</td>\n",
       "      <td>868</td>\n",
       "      <td>2326</td>\n",
       "      <td>56</td>\n",
       "      <td>465</td>\n",
       "      <td>3189</td>\n",
       "      <td>0</td>\n",
       "    </tr>\n",
       "    <tr>\n",
       "      <th>Manipur</th>\n",
       "      <td>31</td>\n",
       "      <td>151</td>\n",
       "      <td>40</td>\n",
       "      <td>228</td>\n",
       "      <td>4</td>\n",
       "      <td>160</td>\n",
       "      <td>347</td>\n",
       "      <td>12</td>\n",
       "      <td>49</td>\n",
       "      <td>226</td>\n",
       "    </tr>\n",
       "    <tr>\n",
       "      <th>Meghalaya</th>\n",
       "      <td>113</td>\n",
       "      <td>606</td>\n",
       "      <td>182</td>\n",
       "      <td>162</td>\n",
       "      <td>143</td>\n",
       "      <td>314</td>\n",
       "      <td>399</td>\n",
       "      <td>177</td>\n",
       "      <td>329</td>\n",
       "      <td>442</td>\n",
       "    </tr>\n",
       "    <tr>\n",
       "      <th>Mizoram</th>\n",
       "      <td>42</td>\n",
       "      <td>230</td>\n",
       "      <td>123</td>\n",
       "      <td>0</td>\n",
       "      <td>15</td>\n",
       "      <td>213</td>\n",
       "      <td>96</td>\n",
       "      <td>64</td>\n",
       "      <td>143</td>\n",
       "      <td>0</td>\n",
       "    </tr>\n",
       "    <tr>\n",
       "      <th>Nagaland</th>\n",
       "      <td>211</td>\n",
       "      <td>1054</td>\n",
       "      <td>160</td>\n",
       "      <td>0</td>\n",
       "      <td>144</td>\n",
       "      <td>873</td>\n",
       "      <td>302</td>\n",
       "      <td>197</td>\n",
       "      <td>718</td>\n",
       "      <td>131</td>\n",
       "    </tr>\n",
       "    <tr>\n",
       "      <th>Odisha</th>\n",
       "      <td>629</td>\n",
       "      <td>3871</td>\n",
       "      <td>607</td>\n",
       "      <td>0</td>\n",
       "      <td>1156</td>\n",
       "      <td>1760</td>\n",
       "      <td>909</td>\n",
       "      <td>284</td>\n",
       "      <td>2335</td>\n",
       "      <td>912</td>\n",
       "    </tr>\n",
       "    <tr>\n",
       "      <th>Puducherry</th>\n",
       "      <td>0</td>\n",
       "      <td>198</td>\n",
       "      <td>30</td>\n",
       "      <td>73</td>\n",
       "      <td>98</td>\n",
       "      <td>101</td>\n",
       "      <td>84</td>\n",
       "      <td>33</td>\n",
       "      <td>51</td>\n",
       "      <td>89</td>\n",
       "    </tr>\n",
       "    <tr>\n",
       "      <th>Punjab</th>\n",
       "      <td>104</td>\n",
       "      <td>1123</td>\n",
       "      <td>216</td>\n",
       "      <td>0</td>\n",
       "      <td>75</td>\n",
       "      <td>728</td>\n",
       "      <td>0</td>\n",
       "      <td>186</td>\n",
       "      <td>496</td>\n",
       "      <td>0</td>\n",
       "    </tr>\n",
       "    <tr>\n",
       "      <th>Rajasthan</th>\n",
       "      <td>871</td>\n",
       "      <td>2634</td>\n",
       "      <td>518</td>\n",
       "      <td>257</td>\n",
       "      <td>444</td>\n",
       "      <td>2174</td>\n",
       "      <td>1048</td>\n",
       "      <td>672</td>\n",
       "      <td>1713</td>\n",
       "      <td>1256</td>\n",
       "    </tr>\n",
       "    <tr>\n",
       "      <th>Sikkim</th>\n",
       "      <td>72</td>\n",
       "      <td>391</td>\n",
       "      <td>0</td>\n",
       "      <td>8</td>\n",
       "      <td>0</td>\n",
       "      <td>136</td>\n",
       "      <td>8</td>\n",
       "      <td>0</td>\n",
       "      <td>91</td>\n",
       "      <td>0</td>\n",
       "    </tr>\n",
       "    <tr>\n",
       "      <th>Tamil Nadu</th>\n",
       "      <td>479</td>\n",
       "      <td>2680</td>\n",
       "      <td>623</td>\n",
       "      <td>992</td>\n",
       "      <td>1076</td>\n",
       "      <td>1466</td>\n",
       "      <td>1827</td>\n",
       "      <td>556</td>\n",
       "      <td>1235</td>\n",
       "      <td>1442</td>\n",
       "    </tr>\n",
       "    <tr>\n",
       "      <th>Telangana</th>\n",
       "      <td>259</td>\n",
       "      <td>1365</td>\n",
       "      <td>250</td>\n",
       "      <td>201</td>\n",
       "      <td>338</td>\n",
       "      <td>882</td>\n",
       "      <td>416</td>\n",
       "      <td>191</td>\n",
       "      <td>774</td>\n",
       "      <td>576</td>\n",
       "    </tr>\n",
       "    <tr>\n",
       "      <th>Tripura</th>\n",
       "      <td>0</td>\n",
       "      <td>240</td>\n",
       "      <td>80</td>\n",
       "      <td>0</td>\n",
       "      <td>119</td>\n",
       "      <td>469</td>\n",
       "      <td>20</td>\n",
       "      <td>220</td>\n",
       "      <td>144</td>\n",
       "      <td>0</td>\n",
       "    </tr>\n",
       "    <tr>\n",
       "      <th>Uttar Pradesh</th>\n",
       "      <td>1112</td>\n",
       "      <td>9719</td>\n",
       "      <td>1741</td>\n",
       "      <td>269</td>\n",
       "      <td>958</td>\n",
       "      <td>6549</td>\n",
       "      <td>3734</td>\n",
       "      <td>724</td>\n",
       "      <td>4028</td>\n",
       "      <td>2529</td>\n",
       "    </tr>\n",
       "    <tr>\n",
       "      <th>Uttarakhand</th>\n",
       "      <td>360</td>\n",
       "      <td>1423</td>\n",
       "      <td>127</td>\n",
       "      <td>0</td>\n",
       "      <td>76</td>\n",
       "      <td>1236</td>\n",
       "      <td>511</td>\n",
       "      <td>1</td>\n",
       "      <td>626</td>\n",
       "      <td>407</td>\n",
       "    </tr>\n",
       "    <tr>\n",
       "      <th>West Bengal</th>\n",
       "      <td>254</td>\n",
       "      <td>2217</td>\n",
       "      <td>356</td>\n",
       "      <td>0</td>\n",
       "      <td>730</td>\n",
       "      <td>1633</td>\n",
       "      <td>619</td>\n",
       "      <td>710</td>\n",
       "      <td>1542</td>\n",
       "      <td>692</td>\n",
       "    </tr>\n",
       "  </tbody>\n",
       "</table>\n",
       "</div>"
      ],
      "text/plain": [
       "cat_crop                     Beans  Cereal  Commercial  Fruits  Nuts  Pulses  \\\n",
       "State_Name                                                                     \n",
       "Andaman and Nicobar Islands      0      20          15      16    37       9   \n",
       "Andhra Pradesh                 386    2264         474     502   674    1336   \n",
       "Arunachal Pradesh               26    1021         168       0    26      67   \n",
       "Assam                            0    2952         854     920   400    2234   \n",
       "Bihar                          280    6108         756     226   130    3731   \n",
       "Chandigarh                       0      39           0       0     0      14   \n",
       "Chhattisgarh                   646    1805         316     264   261    2087   \n",
       "Dadra and Nagar Haveli           0     116          12       9     9      64   \n",
       "Goa                              0      62          22      16    47      32   \n",
       "Gujarat                        403    2466         372     157   683    1521   \n",
       "Haryana                        108    1427         259      52   126     860   \n",
       "Himachal Pradesh               179     726          67       0    54     530   \n",
       "Jammu and Kashmir               12     562          42      24     7     307   \n",
       "Jharkhand                        0     575          16       0     0     304   \n",
       "Karnataka                     1096    5295         615     598  1470    2776   \n",
       "Kerala                           3     819         236     437   536      13   \n",
       "Madhya Pradesh                 962    5115         826     659   768    3993   \n",
       "Maharashtra                    477    4009         458      83   868    2326   \n",
       "Manipur                         31     151          40     228     4     160   \n",
       "Meghalaya                      113     606         182     162   143     314   \n",
       "Mizoram                         42     230         123       0    15     213   \n",
       "Nagaland                       211    1054         160       0   144     873   \n",
       "Odisha                         629    3871         607       0  1156    1760   \n",
       "Puducherry                       0     198          30      73    98     101   \n",
       "Punjab                         104    1123         216       0    75     728   \n",
       "Rajasthan                      871    2634         518     257   444    2174   \n",
       "Sikkim                          72     391           0       8     0     136   \n",
       "Tamil Nadu                     479    2680         623     992  1076    1466   \n",
       "Telangana                      259    1365         250     201   338     882   \n",
       "Tripura                          0     240          80       0   119     469   \n",
       "Uttar Pradesh                 1112    9719        1741     269   958    6549   \n",
       "Uttarakhand                    360    1423         127       0    76    1236   \n",
       "West Bengal                    254    2217         356       0   730    1633   \n",
       "\n",
       "cat_crop                     Vegetables  fibres  oilseeds  spices  \n",
       "State_Name                                                         \n",
       "Andaman and Nicobar Islands          20       0        11      52  \n",
       "Andhra Pradesh                     1046     333      1101     802  \n",
       "Arunachal Pradesh                   257       0       343     637  \n",
       "Assam                              1781    1284      2097    1338  \n",
       "Bihar                              1775     924      2504    1396  \n",
       "Chandigarh                           26       0         7       0  \n",
       "Chhattisgarh                       1143     535      1496    1288  \n",
       "Dadra and Nagar Haveli                0      13        30       1  \n",
       "Goa                                   0       0         0      12  \n",
       "Gujarat                             473     327      1029     512  \n",
       "Haryana                             463     257       543     248  \n",
       "Himachal Pradesh                    214      37       236     345  \n",
       "Jammu and Kashmir                   196      44       233     115  \n",
       "Jharkhand                           247       0       124       0  \n",
       "Karnataka                          1763     605      3135    2588  \n",
       "Kerala                              636      12       168     863  \n",
       "Madhya Pradesh                     2738     922      3281    2739  \n",
       "Maharashtra                          56     465      3189       0  \n",
       "Manipur                             347      12        49     226  \n",
       "Meghalaya                           399     177       329     442  \n",
       "Mizoram                              96      64       143       0  \n",
       "Nagaland                            302     197       718     131  \n",
       "Odisha                              909     284      2335     912  \n",
       "Puducherry                           84      33        51      89  \n",
       "Punjab                                0     186       496       0  \n",
       "Rajasthan                          1048     672      1713    1256  \n",
       "Sikkim                                8       0        91       0  \n",
       "Tamil Nadu                         1827     556      1235    1442  \n",
       "Telangana                           416     191       774     576  \n",
       "Tripura                              20     220       144       0  \n",
       "Uttar Pradesh                      3734     724      4028    2529  \n",
       "Uttarakhand                         511       1       626     407  \n",
       "West Bengal                         619     710      1542     692  "
      ]
     },
     "execution_count": 42,
     "metadata": {},
     "output_type": "execute_result"
    }
   ],
   "source": [
    "df_2 = pd.crosstab(data_explore['State_Name'], data_explore['cat_crop'])\n",
    "df_2"
   ]
  },
  {
   "cell_type": "code",
   "execution_count": 43,
   "metadata": {},
   "outputs": [
    {
     "data": {
      "image/png": "[encoded data removed]",
      "text/plain": [
       "<Figure size 1152x576 with 1 Axes>"
      ]
     },
     "metadata": {
      "needs_background": "light"
     },
     "output_type": "display_data"
    }
   ],
   "source": [
    "df_2.plot(kind='bar', stacked=True, figsize = (16,8));"
   ]
  },
  {
   "cell_type": "markdown",
   "metadata": {},
   "source": [
    "# Crop seen more  place , time"
   ]
  },
  {
   "cell_type": "code",
   "execution_count": 44,
   "metadata": {},
   "outputs": [
    {
     "data": {
      "text/plain": [
       "Rice                 15082\n",
       "Maize                13787\n",
       "Moong(Green Gram)    10106\n",
       "Urad                  9710\n",
       "Sesamum               8821\n",
       "Name: Crop, dtype: int64"
      ]
     },
     "execution_count": 44,
     "metadata": {},
     "output_type": "execute_result"
    }
   ],
   "source": [
    "data_explore[\"Crop\"].value_counts()[:5]"
   ]
  },
  {
   "cell_type": "code",
   "execution_count": 45,
   "metadata": {},
   "outputs": [
    {
     "name": "stdout",
     "output_type": "stream",
     "text": [
      "(15082, 9)\n"
     ]
    },
    {
     "data": {
      "text/html": [
       "<div>\n",
       "<style scoped>\n",
       "    .dataframe tbody tr th:only-of-type {\n",
       "        vertical-align: middle;\n",
       "    }\n",
       "\n",
       "    .dataframe tbody tr th {\n",
       "        vertical-align: top;\n",
       "    }\n",
       "\n",
       "    .dataframe thead th {\n",
       "        text-align: right;\n",
       "    }\n",
       "</style>\n",
       "<table border=\"1\" class=\"dataframe\">\n",
       "  <thead>\n",
       "    <tr style=\"text-align: right;\">\n",
       "      <th></th>\n",
       "      <th>State_Name</th>\n",
       "      <th>District_Name</th>\n",
       "      <th>Crop_Year</th>\n",
       "      <th>Season</th>\n",
       "      <th>Crop</th>\n",
       "      <th>Area</th>\n",
       "      <th>Production</th>\n",
       "      <th>Zones</th>\n",
       "      <th>cat_crop</th>\n",
       "    </tr>\n",
       "  </thead>\n",
       "  <tbody>\n",
       "    <tr>\n",
       "      <th>2</th>\n",
       "      <td>Andaman and Nicobar Islands</td>\n",
       "      <td>NICOBARS</td>\n",
       "      <td>2000</td>\n",
       "      <td>Kharif</td>\n",
       "      <td>Rice</td>\n",
       "      <td>102.0</td>\n",
       "      <td>321.00</td>\n",
       "      <td>Union Terr</td>\n",
       "      <td>Cereal</td>\n",
       "    </tr>\n",
       "    <tr>\n",
       "      <th>12</th>\n",
       "      <td>Andaman and Nicobar Islands</td>\n",
       "      <td>NICOBARS</td>\n",
       "      <td>2001</td>\n",
       "      <td>Kharif</td>\n",
       "      <td>Rice</td>\n",
       "      <td>83.0</td>\n",
       "      <td>300.00</td>\n",
       "      <td>Union Terr</td>\n",
       "      <td>Cereal</td>\n",
       "    </tr>\n",
       "    <tr>\n",
       "      <th>18</th>\n",
       "      <td>Andaman and Nicobar Islands</td>\n",
       "      <td>NICOBARS</td>\n",
       "      <td>2002</td>\n",
       "      <td>Kharif</td>\n",
       "      <td>Rice</td>\n",
       "      <td>189.2</td>\n",
       "      <td>510.84</td>\n",
       "      <td>Union Terr</td>\n",
       "      <td>Cereal</td>\n",
       "    </tr>\n",
       "  </tbody>\n",
       "</table>\n",
       "</div>"
      ],
      "text/plain": [
       "                     State_Name District_Name  Crop_Year       Season  Crop  \\\n",
       "2   Andaman and Nicobar Islands      NICOBARS       2000  Kharif       Rice   \n",
       "12  Andaman and Nicobar Islands      NICOBARS       2001  Kharif       Rice   \n",
       "18  Andaman and Nicobar Islands      NICOBARS       2002  Kharif       Rice   \n",
       "\n",
       "     Area  Production       Zones cat_crop  \n",
       "2   102.0      321.00  Union Terr   Cereal  \n",
       "12   83.0      300.00  Union Terr   Cereal  \n",
       "18  189.2      510.84  Union Terr   Cereal  "
      ]
     },
     "execution_count": 45,
     "metadata": {},
     "output_type": "execute_result"
    }
   ],
   "source": [
    "rice_df = data_explore[data_explore[\"Crop\"]==\"Rice\"]\n",
    "print(rice_df.shape)\n",
    "rice_df[:3]"
   ]
  },
  {
   "cell_type": "code",
   "execution_count": 46,
   "metadata": {},
   "outputs": [
    {
     "data": {
      "image/png": "[encoded data removed]",
      "text/plain": [
       "<Figure size 432x288 with 1 Axes>"
      ]
     },
     "metadata": {
      "needs_background": "light"
     },
     "output_type": "display_data"
    }
   ],
   "source": [
    "sns.barplot(\"Season\",\"Production\",data=rice_df);"
   ]
  },
  {
   "cell_type": "code",
   "execution_count": 47,
   "metadata": {},
   "outputs": [
    {
     "data": {
      "image/png": "[encoded data removed]",
      "text/plain": [
       "<Figure size 432x288 with 1 Axes>"
      ]
     },
     "metadata": {
      "needs_background": "light"
     },
     "output_type": "display_data"
    }
   ],
   "source": [
    "# plt.figure(figsize=(13,10))\n",
    "sns.barplot(\"State_Name\",\"Production\",data=rice_df)\n",
    "plt.xticks(rotation=90)\n",
    "plt.show()"
   ]
  },
  {
   "cell_type": "markdown",
   "metadata": {},
   "source": [
    "# States ranks high in area wise in crop production in India"
   ]
  },
  {
   "cell_type": "code",
   "execution_count": 48,
   "metadata": {},
   "outputs": [
    {
     "data": {
      "text/html": [
       "<div>\n",
       "<style scoped>\n",
       "    .dataframe tbody tr th:only-of-type {\n",
       "        vertical-align: middle;\n",
       "    }\n",
       "\n",
       "    .dataframe tbody tr th {\n",
       "        vertical-align: top;\n",
       "    }\n",
       "\n",
       "    .dataframe thead th {\n",
       "        text-align: right;\n",
       "    }\n",
       "</style>\n",
       "<table border=\"1\" class=\"dataframe\">\n",
       "  <thead>\n",
       "    <tr style=\"text-align: right;\">\n",
       "      <th></th>\n",
       "      <th>State_Name</th>\n",
       "      <th>District_Name</th>\n",
       "      <th>Crop_Year</th>\n",
       "      <th>Season</th>\n",
       "      <th>Crop</th>\n",
       "      <th>Area</th>\n",
       "      <th>Production</th>\n",
       "      <th>Zones</th>\n",
       "      <th>cat_crop</th>\n",
       "    </tr>\n",
       "  </thead>\n",
       "  <tbody>\n",
       "    <tr>\n",
       "      <th>0</th>\n",
       "      <td>Andaman and Nicobar Islands</td>\n",
       "      <td>NICOBARS</td>\n",
       "      <td>2000</td>\n",
       "      <td>Kharif</td>\n",
       "      <td>Arecanut</td>\n",
       "      <td>1254.0</td>\n",
       "      <td>2000.0</td>\n",
       "      <td>Union Terr</td>\n",
       "      <td>Nuts</td>\n",
       "    </tr>\n",
       "    <tr>\n",
       "      <th>1</th>\n",
       "      <td>Andaman and Nicobar Islands</td>\n",
       "      <td>NICOBARS</td>\n",
       "      <td>2000</td>\n",
       "      <td>Kharif</td>\n",
       "      <td>Other Kharif pulses</td>\n",
       "      <td>2.0</td>\n",
       "      <td>1.0</td>\n",
       "      <td>Union Terr</td>\n",
       "      <td>Pulses</td>\n",
       "    </tr>\n",
       "    <tr>\n",
       "      <th>2</th>\n",
       "      <td>Andaman and Nicobar Islands</td>\n",
       "      <td>NICOBARS</td>\n",
       "      <td>2000</td>\n",
       "      <td>Kharif</td>\n",
       "      <td>Rice</td>\n",
       "      <td>102.0</td>\n",
       "      <td>321.0</td>\n",
       "      <td>Union Terr</td>\n",
       "      <td>Cereal</td>\n",
       "    </tr>\n",
       "    <tr>\n",
       "      <th>3</th>\n",
       "      <td>Andaman and Nicobar Islands</td>\n",
       "      <td>NICOBARS</td>\n",
       "      <td>2000</td>\n",
       "      <td>Whole Year</td>\n",
       "      <td>Banana</td>\n",
       "      <td>176.0</td>\n",
       "      <td>641.0</td>\n",
       "      <td>Union Terr</td>\n",
       "      <td>Fruits</td>\n",
       "    </tr>\n",
       "    <tr>\n",
       "      <th>4</th>\n",
       "      <td>Andaman and Nicobar Islands</td>\n",
       "      <td>NICOBARS</td>\n",
       "      <td>2000</td>\n",
       "      <td>Whole Year</td>\n",
       "      <td>Cashewnut</td>\n",
       "      <td>720.0</td>\n",
       "      <td>165.0</td>\n",
       "      <td>Union Terr</td>\n",
       "      <td>Nuts</td>\n",
       "    </tr>\n",
       "    <tr>\n",
       "      <th>5</th>\n",
       "      <td>Andaman and Nicobar Islands</td>\n",
       "      <td>NICOBARS</td>\n",
       "      <td>2000</td>\n",
       "      <td>Whole Year</td>\n",
       "      <td>Coconut</td>\n",
       "      <td>18168.0</td>\n",
       "      <td>65100000.0</td>\n",
       "      <td>Union Terr</td>\n",
       "      <td>None</td>\n",
       "    </tr>\n",
       "    <tr>\n",
       "      <th>6</th>\n",
       "      <td>Andaman and Nicobar Islands</td>\n",
       "      <td>NICOBARS</td>\n",
       "      <td>2000</td>\n",
       "      <td>Whole Year</td>\n",
       "      <td>Dry ginger</td>\n",
       "      <td>36.0</td>\n",
       "      <td>100.0</td>\n",
       "      <td>Union Terr</td>\n",
       "      <td>spices</td>\n",
       "    </tr>\n",
       "    <tr>\n",
       "      <th>7</th>\n",
       "      <td>Andaman and Nicobar Islands</td>\n",
       "      <td>NICOBARS</td>\n",
       "      <td>2000</td>\n",
       "      <td>Whole Year</td>\n",
       "      <td>Sugarcane</td>\n",
       "      <td>1.0</td>\n",
       "      <td>2.0</td>\n",
       "      <td>Union Terr</td>\n",
       "      <td>Commercial</td>\n",
       "    </tr>\n",
       "    <tr>\n",
       "      <th>8</th>\n",
       "      <td>Andaman and Nicobar Islands</td>\n",
       "      <td>NICOBARS</td>\n",
       "      <td>2000</td>\n",
       "      <td>Whole Year</td>\n",
       "      <td>Sweet potato</td>\n",
       "      <td>5.0</td>\n",
       "      <td>15.0</td>\n",
       "      <td>Union Terr</td>\n",
       "      <td>Vegetables</td>\n",
       "    </tr>\n",
       "    <tr>\n",
       "      <th>9</th>\n",
       "      <td>Andaman and Nicobar Islands</td>\n",
       "      <td>NICOBARS</td>\n",
       "      <td>2000</td>\n",
       "      <td>Whole Year</td>\n",
       "      <td>Tapioca</td>\n",
       "      <td>40.0</td>\n",
       "      <td>169.0</td>\n",
       "      <td>Union Terr</td>\n",
       "      <td>Vegetables</td>\n",
       "    </tr>\n",
       "  </tbody>\n",
       "</table>\n",
       "</div>"
      ],
      "text/plain": [
       "                    State_Name District_Name  Crop_Year       Season  \\\n",
       "0  Andaman and Nicobar Islands      NICOBARS       2000  Kharif        \n",
       "1  Andaman and Nicobar Islands      NICOBARS       2000  Kharif        \n",
       "2  Andaman and Nicobar Islands      NICOBARS       2000  Kharif        \n",
       "3  Andaman and Nicobar Islands      NICOBARS       2000  Whole Year    \n",
       "4  Andaman and Nicobar Islands      NICOBARS       2000  Whole Year    \n",
       "5  Andaman and Nicobar Islands      NICOBARS       2000  Whole Year    \n",
       "6  Andaman and Nicobar Islands      NICOBARS       2000  Whole Year    \n",
       "7  Andaman and Nicobar Islands      NICOBARS       2000  Whole Year    \n",
       "8  Andaman and Nicobar Islands      NICOBARS       2000  Whole Year    \n",
       "9  Andaman and Nicobar Islands      NICOBARS       2000  Whole Year    \n",
       "\n",
       "                  Crop     Area  Production       Zones    cat_crop  \n",
       "0             Arecanut   1254.0      2000.0  Union Terr        Nuts  \n",
       "1  Other Kharif pulses      2.0         1.0  Union Terr      Pulses  \n",
       "2                 Rice    102.0       321.0  Union Terr      Cereal  \n",
       "3               Banana    176.0       641.0  Union Terr      Fruits  \n",
       "4            Cashewnut    720.0       165.0  Union Terr        Nuts  \n",
       "5             Coconut   18168.0  65100000.0  Union Terr        None  \n",
       "6           Dry ginger     36.0       100.0  Union Terr      spices  \n",
       "7            Sugarcane      1.0         2.0  Union Terr  Commercial  \n",
       "8         Sweet potato      5.0        15.0  Union Terr  Vegetables  \n",
       "9              Tapioca     40.0       169.0  Union Terr  Vegetables  "
      ]
     },
     "execution_count": 48,
     "metadata": {},
     "output_type": "execute_result"
    },
    {
     "data": {
      "image/png": "[encoded data removed]",
      "text/plain": [
       "<Figure size 1800x720 with 1 Axes>"
      ]
     },
     "metadata": {
      "needs_background": "light"
     },
     "output_type": "display_data"
    }
   ],
   "source": [
    "# df = data_explore.groupby(by='State_Name')['Area'].sum().reset_index().sort_values(by='Area', ascending=False)\n",
    "df.head()\n",
    "\n",
    "fig, ax = plt.subplots(figsize=(25,10))\n",
    "sns.barplot(df.State_Name.head(10), df.Area.head(10), errwidth=0)\n",
    "plt.title('Agricultural Area Distribution - India')\n",
    "df.head(10)"
   ]
  },
  {
   "cell_type": "markdown",
   "metadata": {},
   "source": [
    "# Top crops grown in Northern parts of India"
   ]
  },
  {
   "cell_type": "code",
   "execution_count": 49,
   "metadata": {},
   "outputs": [
    {
     "data": {
      "text/plain": [
       "South Zone      53500\n",
       "North Zone      49874\n",
       "East Zone       43261\n",
       "West Zone       33134\n",
       "Central Zone    32972\n",
       "NE Zone         28284\n",
       "Union Terr       1336\n",
       "Name: Zones, dtype: int64"
      ]
     },
     "execution_count": 49,
     "metadata": {},
     "output_type": "execute_result"
    }
   ],
   "source": [
    "data_explore.Zones.value_counts()"
   ]
  },
  {
   "cell_type": "code",
   "execution_count": 50,
   "metadata": {},
   "outputs": [
    {
     "data": {
      "text/html": [
       "<div>\n",
       "<style scoped>\n",
       "    .dataframe tbody tr th:only-of-type {\n",
       "        vertical-align: middle;\n",
       "    }\n",
       "\n",
       "    .dataframe tbody tr th {\n",
       "        vertical-align: top;\n",
       "    }\n",
       "\n",
       "    .dataframe thead th {\n",
       "        text-align: right;\n",
       "    }\n",
       "</style>\n",
       "<table border=\"1\" class=\"dataframe\">\n",
       "  <thead>\n",
       "    <tr style=\"text-align: right;\">\n",
       "      <th></th>\n",
       "      <th>State_Name</th>\n",
       "      <th>Production</th>\n",
       "    </tr>\n",
       "  </thead>\n",
       "  <tbody>\n",
       "    <tr>\n",
       "      <th>5</th>\n",
       "      <td>Uttar Pradesh</td>\n",
       "      <td>3.234493e+09</td>\n",
       "    </tr>\n",
       "    <tr>\n",
       "      <th>4</th>\n",
       "      <td>Punjab</td>\n",
       "      <td>5.863850e+08</td>\n",
       "    </tr>\n",
       "    <tr>\n",
       "      <th>1</th>\n",
       "      <td>Haryana</td>\n",
       "      <td>3.812739e+08</td>\n",
       "    </tr>\n",
       "    <tr>\n",
       "      <th>6</th>\n",
       "      <td>Uttarakhand</td>\n",
       "      <td>1.321774e+08</td>\n",
       "    </tr>\n",
       "    <tr>\n",
       "      <th>2</th>\n",
       "      <td>Himachal Pradesh</td>\n",
       "      <td>1.780517e+07</td>\n",
       "    </tr>\n",
       "    <tr>\n",
       "      <th>3</th>\n",
       "      <td>Jammu and Kashmir</td>\n",
       "      <td>1.329102e+07</td>\n",
       "    </tr>\n",
       "    <tr>\n",
       "      <th>0</th>\n",
       "      <td>Chandigarh</td>\n",
       "      <td>6.395650e+04</td>\n",
       "    </tr>\n",
       "  </tbody>\n",
       "</table>\n",
       "</div>"
      ],
      "text/plain": [
       "           State_Name    Production\n",
       "5       Uttar Pradesh  3.234493e+09\n",
       "4              Punjab  5.863850e+08\n",
       "1             Haryana  3.812739e+08\n",
       "6         Uttarakhand  1.321774e+08\n",
       "2    Himachal Pradesh  1.780517e+07\n",
       "3  Jammu and Kashmir   1.329102e+07\n",
       "0          Chandigarh  6.395650e+04"
      ]
     },
     "execution_count": 50,
     "metadata": {},
     "output_type": "execute_result"
    },
    {
     "data": {
      "image/png": "[encoded data removed]",
      "text/plain": [
       "<Figure size 1080x720 with 1 Axes>"
      ]
     },
     "metadata": {
      "needs_background": "light"
     },
     "output_type": "display_data"
    }
   ],
   "source": [
    "North_zone =  data_explore[(data_explore[\"Zones\"] == 'North Zone')]\n",
    "fig, ax = plt.subplots(figsize=(15,10))\n",
    "sns.barplot(North_zone.State_Name, North_zone.Production,errwidth=0)\n",
    "plt.xticks(rotation=75);\n",
    "plt.yscale('log')\n",
    "plt.title('Northern-Zone Production')\n",
    "\n",
    "North_zone.groupby(by='State_Name')['Production'].sum().reset_index().sort_values(by='Production', ascending=False)"
   ]
  },
  {
   "cell_type": "markdown",
   "metadata": {},
   "source": [
    "### Which crop is grown more North"
   ]
  },
  {
   "cell_type": "code",
   "execution_count": 51,
   "metadata": {},
   "outputs": [
    {
     "data": {
      "text/plain": [
       "Text(0.5, 1.0, 'North Zone Crops vs Production')"
      ]
     },
     "execution_count": 51,
     "metadata": {},
     "output_type": "execute_result"
    },
    {
     "data": {
      "image/png": "[encoded data removed]",
      "text/plain": [
       "<Figure size 1080x720 with 1 Axes>"
      ]
     },
     "metadata": {
      "needs_background": "light"
     },
     "output_type": "display_data"
    }
   ],
   "source": [
    "df3 = North_zone.groupby(by='Crop')['Production'].sum().reset_index().sort_values(by='Production', ascending=False).head(10)\n",
    "\n",
    "fig, ax = plt.subplots(figsize=(15,10))\n",
    "sns.barplot(df3.Crop, df3.Production,errwidth=0)\n",
    "plt.xticks(rotation=75);\n",
    "plt.yscale('log')\n",
    "plt.title('North Zone Crops vs Production')"
   ]
  },
  {
   "cell_type": "markdown",
   "metadata": {},
   "source": [
    "# South zone"
   ]
  },
  {
   "cell_type": "code",
   "execution_count": 52,
   "metadata": {},
   "outputs": [
    {
     "data": {
      "text/html": [
       "<div>\n",
       "<style scoped>\n",
       "    .dataframe tbody tr th:only-of-type {\n",
       "        vertical-align: middle;\n",
       "    }\n",
       "\n",
       "    .dataframe tbody tr th {\n",
       "        vertical-align: top;\n",
       "    }\n",
       "\n",
       "    .dataframe thead th {\n",
       "        text-align: right;\n",
       "    }\n",
       "</style>\n",
       "<table border=\"1\" class=\"dataframe\">\n",
       "  <thead>\n",
       "    <tr style=\"text-align: right;\">\n",
       "      <th></th>\n",
       "      <th>State_Name</th>\n",
       "      <th>Production</th>\n",
       "    </tr>\n",
       "  </thead>\n",
       "  <tbody>\n",
       "    <tr>\n",
       "      <th>5</th>\n",
       "      <td>Uttar Pradesh</td>\n",
       "      <td>3.234493e+09</td>\n",
       "    </tr>\n",
       "    <tr>\n",
       "      <th>4</th>\n",
       "      <td>Punjab</td>\n",
       "      <td>5.863850e+08</td>\n",
       "    </tr>\n",
       "    <tr>\n",
       "      <th>1</th>\n",
       "      <td>Haryana</td>\n",
       "      <td>3.812739e+08</td>\n",
       "    </tr>\n",
       "    <tr>\n",
       "      <th>6</th>\n",
       "      <td>Uttarakhand</td>\n",
       "      <td>1.321774e+08</td>\n",
       "    </tr>\n",
       "    <tr>\n",
       "      <th>2</th>\n",
       "      <td>Himachal Pradesh</td>\n",
       "      <td>1.780517e+07</td>\n",
       "    </tr>\n",
       "    <tr>\n",
       "      <th>3</th>\n",
       "      <td>Jammu and Kashmir</td>\n",
       "      <td>1.329102e+07</td>\n",
       "    </tr>\n",
       "    <tr>\n",
       "      <th>0</th>\n",
       "      <td>Chandigarh</td>\n",
       "      <td>6.395650e+04</td>\n",
       "    </tr>\n",
       "  </tbody>\n",
       "</table>\n",
       "</div>"
      ],
      "text/plain": [
       "           State_Name    Production\n",
       "5       Uttar Pradesh  3.234493e+09\n",
       "4              Punjab  5.863850e+08\n",
       "1             Haryana  3.812739e+08\n",
       "6         Uttarakhand  1.321774e+08\n",
       "2    Himachal Pradesh  1.780517e+07\n",
       "3  Jammu and Kashmir   1.329102e+07\n",
       "0          Chandigarh  6.395650e+04"
      ]
     },
     "execution_count": 52,
     "metadata": {},
     "output_type": "execute_result"
    },
    {
     "data": {
      "image/png": "[encoded data removed]",
      "text/plain": [
       "<Figure size 1080x720 with 1 Axes>"
      ]
     },
     "metadata": {
      "needs_background": "light"
     },
     "output_type": "display_data"
    }
   ],
   "source": [
    "South_zone =  data_explore[(data_explore[\"Zones\"] == 'South Zone')]\n",
    "fig, ax = plt.subplots(figsize=(15,10))\n",
    "sns.barplot(South_zone.State_Name, South_zone.Production,errwidth=0)\n",
    "plt.xticks(rotation=75);\n",
    "plt.yscale('log')\n",
    "plt.title('South-Zone Production')\n",
    "\n",
    "North_zone.groupby(by='State_Name')['Production'].sum().reset_index().sort_values(by='Production', ascending=False)"
   ]
  },
  {
   "cell_type": "markdown",
   "metadata": {},
   "source": [
    "### Which crop is grown more South"
   ]
  },
  {
   "cell_type": "code",
   "execution_count": 53,
   "metadata": {},
   "outputs": [
    {
     "data": {
      "text/plain": [
       "Text(0.5, 1.0, 'South Zone Crops vs Production')"
      ]
     },
     "execution_count": 53,
     "metadata": {},
     "output_type": "execute_result"
    },
    {
     "data": {
      "image/png": "[encoded data removed]",
      "text/plain": [
       "<Figure size 1080x720 with 1 Axes>"
      ]
     },
     "metadata": {
      "needs_background": "light"
     },
     "output_type": "display_data"
    }
   ],
   "source": [
    "df3 = South_zone.groupby(by='Crop')['Production'].sum().reset_index().sort_values(by='Production', ascending=False).head(10)\n",
    "\n",
    "fig, ax = plt.subplots(figsize=(15,10))\n",
    "sns.barplot(df3.Crop, df3.Production,errwidth=0)\n",
    "plt.xticks(rotation=75);\n",
    "plt.yscale('log')\n",
    "plt.title('South Zone Crops vs Production')"
   ]
  },
  {
   "cell_type": "markdown",
   "metadata": {},
   "source": [
    "# East Zone"
   ]
  },
  {
   "cell_type": "code",
   "execution_count": 54,
   "metadata": {},
   "outputs": [
    {
     "data": {
      "text/html": [
       "<div>\n",
       "<style scoped>\n",
       "    .dataframe tbody tr th:only-of-type {\n",
       "        vertical-align: middle;\n",
       "    }\n",
       "\n",
       "    .dataframe tbody tr th {\n",
       "        vertical-align: top;\n",
       "    }\n",
       "\n",
       "    .dataframe thead th {\n",
       "        text-align: right;\n",
       "    }\n",
       "</style>\n",
       "<table border=\"1\" class=\"dataframe\">\n",
       "  <thead>\n",
       "    <tr style=\"text-align: right;\">\n",
       "      <th></th>\n",
       "      <th>State_Name</th>\n",
       "      <th>Production</th>\n",
       "    </tr>\n",
       "  </thead>\n",
       "  <tbody>\n",
       "    <tr>\n",
       "      <th>3</th>\n",
       "      <td>West Bengal</td>\n",
       "      <td>1.397904e+09</td>\n",
       "    </tr>\n",
       "    <tr>\n",
       "      <th>0</th>\n",
       "      <td>Bihar</td>\n",
       "      <td>3.664836e+08</td>\n",
       "    </tr>\n",
       "    <tr>\n",
       "      <th>2</th>\n",
       "      <td>Odisha</td>\n",
       "      <td>1.609041e+08</td>\n",
       "    </tr>\n",
       "    <tr>\n",
       "      <th>1</th>\n",
       "      <td>Jharkhand</td>\n",
       "      <td>1.077774e+07</td>\n",
       "    </tr>\n",
       "  </tbody>\n",
       "</table>\n",
       "</div>"
      ],
      "text/plain": [
       "    State_Name    Production\n",
       "3  West Bengal  1.397904e+09\n",
       "0        Bihar  3.664836e+08\n",
       "2       Odisha  1.609041e+08\n",
       "1    Jharkhand  1.077774e+07"
      ]
     },
     "execution_count": 54,
     "metadata": {},
     "output_type": "execute_result"
    },
    {
     "data": {
      "image/png": "[encoded data removed]",
      "text/plain": [
       "<Figure size 1080x720 with 1 Axes>"
      ]
     },
     "metadata": {
      "needs_background": "light"
     },
     "output_type": "display_data"
    }
   ],
   "source": [
    "East_zone =  data_explore[(data_explore[\"Zones\"] == 'East Zone')]\n",
    "fig, ax = plt.subplots(figsize=(15,10))\n",
    "sns.barplot(East_zone.State_Name, East_zone.Production,errwidth=0)\n",
    "plt.xticks(rotation=75);\n",
    "plt.yscale('log')\n",
    "plt.title('East-Zone Production')\n",
    "\n",
    "East_zone.groupby(by='State_Name')['Production'].sum().reset_index().sort_values(by='Production', ascending=False)"
   ]
  },
  {
   "cell_type": "markdown",
   "metadata": {},
   "source": [
    "### Which crop is more grown in East zone"
   ]
  },
  {
   "cell_type": "code",
   "execution_count": 55,
   "metadata": {},
   "outputs": [
    {
     "data": {
      "text/plain": [
       "Text(0.5, 1.0, 'East_zone Crops vs Production')"
      ]
     },
     "execution_count": 55,
     "metadata": {},
     "output_type": "execute_result"
    },
    {
     "data": {
      "image/png": "[encoded data removed]",
      "text/plain": [
       "<Figure size 1080x720 with 1 Axes>"
      ]
     },
     "metadata": {
      "needs_background": "light"
     },
     "output_type": "display_data"
    }
   ],
   "source": [
    "df3 = East_zone.groupby(by='Crop')['Production'].sum().reset_index().sort_values(by='Production', ascending=False).head(10)\n",
    "\n",
    "fig, ax = plt.subplots(figsize=(15,10))\n",
    "sns.barplot(df3.Crop, df3.Production,errwidth=0)\n",
    "plt.xticks(rotation=75);\n",
    "plt.yscale('log')\n",
    "plt.title('East_zone Crops vs Production')"
   ]
  },
  {
   "cell_type": "markdown",
   "metadata": {},
   "source": [
    "# West Zone"
   ]
  },
  {
   "cell_type": "code",
   "execution_count": 56,
   "metadata": {},
   "outputs": [
    {
     "data": {
      "text/html": [
       "<div>\n",
       "<style scoped>\n",
       "    .dataframe tbody tr th:only-of-type {\n",
       "        vertical-align: middle;\n",
       "    }\n",
       "\n",
       "    .dataframe tbody tr th {\n",
       "        vertical-align: top;\n",
       "    }\n",
       "\n",
       "    .dataframe thead th {\n",
       "        text-align: right;\n",
       "    }\n",
       "</style>\n",
       "<table border=\"1\" class=\"dataframe\">\n",
       "  <thead>\n",
       "    <tr style=\"text-align: right;\">\n",
       "      <th></th>\n",
       "      <th>State_Name</th>\n",
       "      <th>Production</th>\n",
       "    </tr>\n",
       "  </thead>\n",
       "  <tbody>\n",
       "    <tr>\n",
       "      <th>2</th>\n",
       "      <td>Maharashtra</td>\n",
       "      <td>1.263641e+09</td>\n",
       "    </tr>\n",
       "    <tr>\n",
       "      <th>1</th>\n",
       "      <td>Gujarat</td>\n",
       "      <td>5.242913e+08</td>\n",
       "    </tr>\n",
       "    <tr>\n",
       "      <th>0</th>\n",
       "      <td>Goa</td>\n",
       "      <td>5.057558e+08</td>\n",
       "    </tr>\n",
       "    <tr>\n",
       "      <th>3</th>\n",
       "      <td>Rajasthan</td>\n",
       "      <td>2.813203e+08</td>\n",
       "    </tr>\n",
       "  </tbody>\n",
       "</table>\n",
       "</div>"
      ],
      "text/plain": [
       "    State_Name    Production\n",
       "2  Maharashtra  1.263641e+09\n",
       "1      Gujarat  5.242913e+08\n",
       "0          Goa  5.057558e+08\n",
       "3    Rajasthan  2.813203e+08"
      ]
     },
     "execution_count": 56,
     "metadata": {},
     "output_type": "execute_result"
    },
    {
     "data": {
      "image/png": "[encoded data removed]",
      "text/plain": [
       "<Figure size 1080x720 with 1 Axes>"
      ]
     },
     "metadata": {
      "needs_background": "light"
     },
     "output_type": "display_data"
    }
   ],
   "source": [
    "West_zone =  data_explore[(data_explore[\"Zones\"] == 'West Zone')]\n",
    "fig, ax = plt.subplots(figsize=(15,10))\n",
    "sns.barplot(West_zone.State_Name, West_zone.Production,errwidth=0)\n",
    "plt.xticks(rotation=75);\n",
    "plt.yscale('log')\n",
    "plt.title('West_zone Production')\n",
    "\n",
    "West_zone.groupby(by='State_Name')['Production'].sum().reset_index().sort_values(by='Production', ascending=False)"
   ]
  },
  {
   "cell_type": "markdown",
   "metadata": {},
   "source": [
    "### Which crop is more grown in West zone"
   ]
  },
  {
   "cell_type": "code",
   "execution_count": 57,
   "metadata": {},
   "outputs": [
    {
     "data": {
      "text/plain": [
       "Text(0.5, 1.0, 'West_zone Crops vs Production')"
      ]
     },
     "execution_count": 57,
     "metadata": {},
     "output_type": "execute_result"
    },
    {
     "data": {
      "image/png": "[encoded data removed]",
      "text/plain": [
       "<Figure size 1080x720 with 1 Axes>"
      ]
     },
     "metadata": {
      "needs_background": "light"
     },
     "output_type": "display_data"
    }
   ],
   "source": [
    "df3 = West_zone.groupby(by='Crop')['Production'].sum().reset_index().sort_values(by='Production', ascending=False).head(10)\n",
    "\n",
    "fig, ax = plt.subplots(figsize=(15,10))\n",
    "sns.barplot(df3.Crop, df3.Production,errwidth=0)\n",
    "plt.xticks(rotation=75);\n",
    "plt.yscale('log')\n",
    "plt.title('West_zone Crops vs Production')"
   ]
  },
  {
   "cell_type": "markdown",
   "metadata": {},
   "source": [
    "# Union Terr"
   ]
  },
  {
   "cell_type": "code",
   "execution_count": 58,
   "metadata": {},
   "outputs": [
    {
     "data": {
      "text/html": [
       "<div>\n",
       "<style scoped>\n",
       "    .dataframe tbody tr th:only-of-type {\n",
       "        vertical-align: middle;\n",
       "    }\n",
       "\n",
       "    .dataframe tbody tr th {\n",
       "        vertical-align: top;\n",
       "    }\n",
       "\n",
       "    .dataframe thead th {\n",
       "        text-align: right;\n",
       "    }\n",
       "</style>\n",
       "<table border=\"1\" class=\"dataframe\">\n",
       "  <thead>\n",
       "    <tr style=\"text-align: right;\">\n",
       "      <th></th>\n",
       "      <th>State_Name</th>\n",
       "      <th>Production</th>\n",
       "    </tr>\n",
       "  </thead>\n",
       "  <tbody>\n",
       "    <tr>\n",
       "      <th>2</th>\n",
       "      <td>Maharashtra</td>\n",
       "      <td>1.263641e+09</td>\n",
       "    </tr>\n",
       "    <tr>\n",
       "      <th>1</th>\n",
       "      <td>Gujarat</td>\n",
       "      <td>5.242913e+08</td>\n",
       "    </tr>\n",
       "    <tr>\n",
       "      <th>0</th>\n",
       "      <td>Goa</td>\n",
       "      <td>5.057558e+08</td>\n",
       "    </tr>\n",
       "    <tr>\n",
       "      <th>3</th>\n",
       "      <td>Rajasthan</td>\n",
       "      <td>2.813203e+08</td>\n",
       "    </tr>\n",
       "  </tbody>\n",
       "</table>\n",
       "</div>"
      ],
      "text/plain": [
       "    State_Name    Production\n",
       "2  Maharashtra  1.263641e+09\n",
       "1      Gujarat  5.242913e+08\n",
       "0          Goa  5.057558e+08\n",
       "3    Rajasthan  2.813203e+08"
      ]
     },
     "execution_count": 58,
     "metadata": {},
     "output_type": "execute_result"
    },
    {
     "data": {
      "image/png": "[encoded data removed]",
      "text/plain": [
       "<Figure size 1080x720 with 1 Axes>"
      ]
     },
     "metadata": {
      "needs_background": "light"
     },
     "output_type": "display_data"
    }
   ],
   "source": [
    "Union_Terr =  data_explore[(data_explore[\"Zones\"] == 'Union Terr')]\n",
    "fig, ax = plt.subplots(figsize=(15,10))\n",
    "sns.barplot(Union_Terr.State_Name, Union_Terr.Production,errwidth=0)\n",
    "plt.xticks(rotation=75);\n",
    "plt.yscale('log')\n",
    "plt.title('Union_Terr Production')\n",
    "\n",
    "West_zone.groupby(by='State_Name')['Production'].sum().reset_index().sort_values(by='Production', ascending=False)"
   ]
  },
  {
   "cell_type": "markdown",
   "metadata": {},
   "source": [
    "### Which crop is more grown in West zone"
   ]
  },
  {
   "cell_type": "code",
   "execution_count": 59,
   "metadata": {},
   "outputs": [
    {
     "data": {
      "text/plain": [
       "Text(0.5, 1.0, 'Union_Terr Crops vs Production')"
      ]
     },
     "execution_count": 59,
     "metadata": {},
     "output_type": "execute_result"
    },
    {
     "data": {
      "image/png": "[encoded data removed]",
      "text/plain": [
       "<Figure size 1080x720 with 1 Axes>"
      ]
     },
     "metadata": {
      "needs_background": "light"
     },
     "output_type": "display_data"
    }
   ],
   "source": [
    "df3 = Union_Terr.groupby(by='Crop')['Production'].sum().reset_index().sort_values(by='Production', ascending=False).head(10)\n",
    "\n",
    "fig, ax = plt.subplots(figsize=(15,10))\n",
    "sns.barplot(df3.Crop, df3.Production,errwidth=0)\n",
    "plt.xticks(rotation=75);\n",
    "plt.yscale('log')\n",
    "plt.title('Union_Terr Crops vs Production')"
   ]
  },
  {
   "cell_type": "code",
   "execution_count": null,
   "metadata": {},
   "outputs": [],
   "source": []
  },
  {
   "cell_type": "code",
   "execution_count": null,
   "metadata": {},
   "outputs": [],
   "source": []
  },
  {
   "cell_type": "code",
   "execution_count": null,
   "metadata": {},
   "outputs": [],
   "source": []
  }
 ],
 "metadata": {
  "kernelspec": {
   "display_name": "Python 3",
   "language": "python",
   "name": "python3"
  },
  "language_info": {
   "codemirror_mode": {
    "name": "ipython",
    "version": 3
   },
   "file_extension": ".py",
   "mimetype": "text/x-python",
   "name": "python",
   "nbconvert_exporter": "python",
   "pygments_lexer": "ipython3",
   "version": "3.8.1"
  }
 },
 "nbformat": 4,
 "nbformat_minor": 4
}
